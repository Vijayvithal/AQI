{
 "cells": [
  {
   "cell_type": "code",
   "execution_count": 1,
   "metadata": {},
   "outputs": [],
   "source": [
    "import pandas as pd\n",
    "import numpy as np\n",
    "import seaborn as sns\n",
    "import matplotlib.pyplot as plt\n",
    "from sklearn.preprocessing import StandardScaler \n",
    "from sklearn.linear_model  import Ridge,Lasso,RidgeCV, LassoCV, ElasticNet, ElasticNetCV, LinearRegression\n",
    "from sklearn.model_selection import train_test_split\n",
    "import statsmodels.api as sm \n",
    "import matplotlib.pyplot as plt\n",
    "import seaborn as sns\n",
    "sns.set()"
   ]
  },
  {
   "cell_type": "code",
   "execution_count": 2,
   "metadata": {},
   "outputs": [
    {
     "data": {
      "text/html": [
       "<div>\n",
       "<style scoped>\n",
       "    .dataframe tbody tr th:only-of-type {\n",
       "        vertical-align: middle;\n",
       "    }\n",
       "\n",
       "    .dataframe tbody tr th {\n",
       "        vertical-align: top;\n",
       "    }\n",
       "\n",
       "    .dataframe thead th {\n",
       "        text-align: right;\n",
       "    }\n",
       "</style>\n",
       "<table border=\"1\" class=\"dataframe\">\n",
       "  <thead>\n",
       "    <tr style=\"text-align: right;\">\n",
       "      <th></th>\n",
       "      <th>T</th>\n",
       "      <th>TM</th>\n",
       "      <th>Tm</th>\n",
       "      <th>SLP</th>\n",
       "      <th>H</th>\n",
       "      <th>VV</th>\n",
       "      <th>V</th>\n",
       "      <th>VM</th>\n",
       "      <th>PM 2.5</th>\n",
       "    </tr>\n",
       "  </thead>\n",
       "  <tbody>\n",
       "    <tr>\n",
       "      <th>0</th>\n",
       "      <td>7.4</td>\n",
       "      <td>9.8</td>\n",
       "      <td>4.8</td>\n",
       "      <td>1017.6</td>\n",
       "      <td>93.0</td>\n",
       "      <td>0.5</td>\n",
       "      <td>4.3</td>\n",
       "      <td>9.4</td>\n",
       "      <td>219.720833</td>\n",
       "    </tr>\n",
       "    <tr>\n",
       "      <th>1</th>\n",
       "      <td>7.8</td>\n",
       "      <td>12.7</td>\n",
       "      <td>4.4</td>\n",
       "      <td>1018.5</td>\n",
       "      <td>87.0</td>\n",
       "      <td>0.6</td>\n",
       "      <td>4.4</td>\n",
       "      <td>11.1</td>\n",
       "      <td>182.187500</td>\n",
       "    </tr>\n",
       "    <tr>\n",
       "      <th>2</th>\n",
       "      <td>6.7</td>\n",
       "      <td>13.4</td>\n",
       "      <td>2.4</td>\n",
       "      <td>1019.4</td>\n",
       "      <td>82.0</td>\n",
       "      <td>0.6</td>\n",
       "      <td>4.8</td>\n",
       "      <td>11.1</td>\n",
       "      <td>154.037500</td>\n",
       "    </tr>\n",
       "    <tr>\n",
       "      <th>3</th>\n",
       "      <td>8.6</td>\n",
       "      <td>15.5</td>\n",
       "      <td>3.3</td>\n",
       "      <td>1018.7</td>\n",
       "      <td>72.0</td>\n",
       "      <td>0.8</td>\n",
       "      <td>8.1</td>\n",
       "      <td>20.6</td>\n",
       "      <td>223.208333</td>\n",
       "    </tr>\n",
       "    <tr>\n",
       "      <th>4</th>\n",
       "      <td>12.4</td>\n",
       "      <td>20.9</td>\n",
       "      <td>4.4</td>\n",
       "      <td>1017.3</td>\n",
       "      <td>61.0</td>\n",
       "      <td>1.3</td>\n",
       "      <td>8.7</td>\n",
       "      <td>22.2</td>\n",
       "      <td>200.645833</td>\n",
       "    </tr>\n",
       "  </tbody>\n",
       "</table>\n",
       "</div>"
      ],
      "text/plain": [
       "      T    TM   Tm     SLP     H   VV    V    VM      PM 2.5\n",
       "0   7.4   9.8  4.8  1017.6  93.0  0.5  4.3   9.4  219.720833\n",
       "1   7.8  12.7  4.4  1018.5  87.0  0.6  4.4  11.1  182.187500\n",
       "2   6.7  13.4  2.4  1019.4  82.0  0.6  4.8  11.1  154.037500\n",
       "3   8.6  15.5  3.3  1018.7  72.0  0.8  8.1  20.6  223.208333\n",
       "4  12.4  20.9  4.4  1017.3  61.0  1.3  8.7  22.2  200.645833"
      ]
     },
     "execution_count": 2,
     "metadata": {},
     "output_type": "execute_result"
    }
   ],
   "source": [
    "#Reading the Air Quality data\n",
    "df=pd.read_csv('Real_Combine.csv')\n",
    "df.head()"
   ]
  },
  {
   "cell_type": "code",
   "execution_count": 124,
   "metadata": {},
   "outputs": [
    {
     "data": {
      "text/plain": [
       "T         0\n",
       "TM        0\n",
       "Tm        0\n",
       "SLP       0\n",
       "H         0\n",
       "VV        0\n",
       "V         0\n",
       "VM        0\n",
       "PM 2.5    1\n",
       "dtype: int64"
      ]
     },
     "execution_count": 124,
     "metadata": {},
     "output_type": "execute_result"
    }
   ],
   "source": [
    "df.isnull().sum()  #Checkany null values in data"
   ]
  },
  {
   "cell_type": "code",
   "execution_count": 3,
   "metadata": {},
   "outputs": [],
   "source": [
    "#We have one null so i am dropping the that null value\n",
    "df=df.dropna()"
   ]
  },
  {
   "cell_type": "code",
   "execution_count": 4,
   "metadata": {},
   "outputs": [
    {
     "data": {
      "text/html": [
       "<div>\n",
       "<style scoped>\n",
       "    .dataframe tbody tr th:only-of-type {\n",
       "        vertical-align: middle;\n",
       "    }\n",
       "\n",
       "    .dataframe tbody tr th {\n",
       "        vertical-align: top;\n",
       "    }\n",
       "\n",
       "    .dataframe thead th {\n",
       "        text-align: right;\n",
       "    }\n",
       "</style>\n",
       "<table border=\"1\" class=\"dataframe\">\n",
       "  <thead>\n",
       "    <tr style=\"text-align: right;\">\n",
       "      <th></th>\n",
       "      <th>T</th>\n",
       "      <th>TM</th>\n",
       "      <th>Tm</th>\n",
       "      <th>SLP</th>\n",
       "      <th>H</th>\n",
       "      <th>VV</th>\n",
       "      <th>V</th>\n",
       "      <th>VM</th>\n",
       "      <th>PM 2.5</th>\n",
       "    </tr>\n",
       "  </thead>\n",
       "  <tbody>\n",
       "    <tr>\n",
       "      <th>count</th>\n",
       "      <td>730.000000</td>\n",
       "      <td>730.000000</td>\n",
       "      <td>730.000000</td>\n",
       "      <td>730.000000</td>\n",
       "      <td>730.000000</td>\n",
       "      <td>730.000000</td>\n",
       "      <td>730.000000</td>\n",
       "      <td>730.000000</td>\n",
       "      <td>730.000000</td>\n",
       "    </tr>\n",
       "    <tr>\n",
       "      <th>mean</th>\n",
       "      <td>25.572329</td>\n",
       "      <td>32.249726</td>\n",
       "      <td>19.285068</td>\n",
       "      <td>1008.180000</td>\n",
       "      <td>64.097260</td>\n",
       "      <td>1.892329</td>\n",
       "      <td>6.632877</td>\n",
       "      <td>15.702877</td>\n",
       "      <td>107.929150</td>\n",
       "    </tr>\n",
       "    <tr>\n",
       "      <th>std</th>\n",
       "      <td>7.279810</td>\n",
       "      <td>6.840215</td>\n",
       "      <td>7.452854</td>\n",
       "      <td>7.556041</td>\n",
       "      <td>15.438985</td>\n",
       "      <td>0.686832</td>\n",
       "      <td>3.969204</td>\n",
       "      <td>7.657372</td>\n",
       "      <td>82.576607</td>\n",
       "    </tr>\n",
       "    <tr>\n",
       "      <th>min</th>\n",
       "      <td>6.700000</td>\n",
       "      <td>9.800000</td>\n",
       "      <td>0.000000</td>\n",
       "      <td>991.500000</td>\n",
       "      <td>20.000000</td>\n",
       "      <td>0.300000</td>\n",
       "      <td>0.400000</td>\n",
       "      <td>1.900000</td>\n",
       "      <td>0.000000</td>\n",
       "    </tr>\n",
       "    <tr>\n",
       "      <th>25%</th>\n",
       "      <td>18.900000</td>\n",
       "      <td>27.600000</td>\n",
       "      <td>12.025000</td>\n",
       "      <td>1001.300000</td>\n",
       "      <td>55.000000</td>\n",
       "      <td>1.400000</td>\n",
       "      <td>3.500000</td>\n",
       "      <td>11.100000</td>\n",
       "      <td>43.583333</td>\n",
       "    </tr>\n",
       "    <tr>\n",
       "      <th>50%</th>\n",
       "      <td>27.700000</td>\n",
       "      <td>34.100000</td>\n",
       "      <td>21.000000</td>\n",
       "      <td>1008.450000</td>\n",
       "      <td>66.000000</td>\n",
       "      <td>1.900000</td>\n",
       "      <td>6.300000</td>\n",
       "      <td>14.800000</td>\n",
       "      <td>81.729167</td>\n",
       "    </tr>\n",
       "    <tr>\n",
       "      <th>75%</th>\n",
       "      <td>31.200000</td>\n",
       "      <td>36.900000</td>\n",
       "      <td>25.900000</td>\n",
       "      <td>1015.000000</td>\n",
       "      <td>75.000000</td>\n",
       "      <td>2.400000</td>\n",
       "      <td>9.100000</td>\n",
       "      <td>18.300000</td>\n",
       "      <td>153.934375</td>\n",
       "    </tr>\n",
       "    <tr>\n",
       "      <th>max</th>\n",
       "      <td>38.500000</td>\n",
       "      <td>45.500000</td>\n",
       "      <td>32.700000</td>\n",
       "      <td>1023.200000</td>\n",
       "      <td>98.000000</td>\n",
       "      <td>5.800000</td>\n",
       "      <td>24.400000</td>\n",
       "      <td>57.600000</td>\n",
       "      <td>404.500000</td>\n",
       "    </tr>\n",
       "  </tbody>\n",
       "</table>\n",
       "</div>"
      ],
      "text/plain": [
       "                T          TM          Tm          SLP           H  \\\n",
       "count  730.000000  730.000000  730.000000   730.000000  730.000000   \n",
       "mean    25.572329   32.249726   19.285068  1008.180000   64.097260   \n",
       "std      7.279810    6.840215    7.452854     7.556041   15.438985   \n",
       "min      6.700000    9.800000    0.000000   991.500000   20.000000   \n",
       "25%     18.900000   27.600000   12.025000  1001.300000   55.000000   \n",
       "50%     27.700000   34.100000   21.000000  1008.450000   66.000000   \n",
       "75%     31.200000   36.900000   25.900000  1015.000000   75.000000   \n",
       "max     38.500000   45.500000   32.700000  1023.200000   98.000000   \n",
       "\n",
       "               VV           V          VM      PM 2.5  \n",
       "count  730.000000  730.000000  730.000000  730.000000  \n",
       "mean     1.892329    6.632877   15.702877  107.929150  \n",
       "std      0.686832    3.969204    7.657372   82.576607  \n",
       "min      0.300000    0.400000    1.900000    0.000000  \n",
       "25%      1.400000    3.500000   11.100000   43.583333  \n",
       "50%      1.900000    6.300000   14.800000   81.729167  \n",
       "75%      2.400000    9.100000   18.300000  153.934375  \n",
       "max      5.800000   24.400000   57.600000  404.500000  "
      ]
     },
     "execution_count": 4,
     "metadata": {},
     "output_type": "execute_result"
    }
   ],
   "source": [
    "df.describe() #Summerization of data"
   ]
  },
  {
   "cell_type": "code",
   "execution_count": 127,
   "metadata": {},
   "outputs": [
    {
     "data": {
      "image/png": "[encoded data removed]",
      "text/plain": [
       "<Figure size 432x288 with 1 Axes>"
      ]
     },
     "metadata": {},
     "output_type": "display_data"
    },
    {
     "data": {
      "image/png": "[encoded data removed]",
      "text/plain": [
       "<Figure size 432x288 with 1 Axes>"
      ]
     },
     "metadata": {},
     "output_type": "display_data"
    },
    {
     "data": {
      "image/png": "[encoded data removed]",
      "text/plain": [
       "<Figure size 432x288 with 1 Axes>"
      ]
     },
     "metadata": {},
     "output_type": "display_data"
    },
    {
     "data": {
      "image/png": "[encoded data removed]",
      "text/plain": [
       "<Figure size 432x288 with 1 Axes>"
      ]
     },
     "metadata": {},
     "output_type": "display_data"
    },
    {
     "data": {
      "image/png": "[encoded data removed]",
      "text/plain": [
       "<Figure size 432x288 with 1 Axes>"
      ]
     },
     "metadata": {},
     "output_type": "display_data"
    },
    {
     "data": {
      "image/png": "[encoded data removed]",
      "text/plain": [
       "<Figure size 432x288 with 1 Axes>"
      ]
     },
     "metadata": {},
     "output_type": "display_data"
    },
    {
     "data": {
      "image/png": "[encoded data removed]",
      "text/plain": [
       "<Figure size 432x288 with 1 Axes>"
      ]
     },
     "metadata": {},
     "output_type": "display_data"
    },
    {
     "data": {
      "image/png": "[encoded data removed]",
      "text/plain": [
       "<Figure size 432x288 with 1 Axes>"
      ]
     },
     "metadata": {},
     "output_type": "display_data"
    },
    {
     "data": {
      "image/png": "[encoded data removed]",
      "text/plain": [
       "<Figure size 432x288 with 1 Axes>"
      ]
     },
     "metadata": {},
     "output_type": "display_data"
    }
   ],
   "source": [
    "#Finding the relationships of data\n",
    "for feature in df:\n",
    "    data=df.copy()\n",
    "    plt.scatter(data[feature],data['PM 2.5'])\n",
    "    plt.title(feature)\n",
    "    plt.show()"
   ]
  },
  {
   "cell_type": "code",
   "execution_count": 128,
   "metadata": {},
   "outputs": [
    {
     "data": {
      "image/png": "[encoded data removed]",
      "text/plain": [
       "<Figure size 432x288 with 1 Axes>"
      ]
     },
     "metadata": {},
     "output_type": "display_data"
    },
    {
     "data": {
      "image/png": "[encoded data removed]",
      "text/plain": [
       "<Figure size 432x288 with 1 Axes>"
      ]
     },
     "metadata": {},
     "output_type": "display_data"
    },
    {
     "data": {
      "image/png": "[encoded data removed]",
      "text/plain": [
       "<Figure size 432x288 with 1 Axes>"
      ]
     },
     "metadata": {},
     "output_type": "display_data"
    },
    {
     "data": {
      "image/png": "[encoded data removed]",
      "text/plain": [
       "<Figure size 432x288 with 1 Axes>"
      ]
     },
     "metadata": {},
     "output_type": "display_data"
    },
    {
     "data": {
      "image/png": "[encoded data removed]",
      "text/plain": [
       "<Figure size 432x288 with 1 Axes>"
      ]
     },
     "metadata": {},
     "output_type": "display_data"
    },
    {
     "data": {
      "image/png": "[encoded data removed]",
      "text/plain": [
       "<Figure size 432x288 with 1 Axes>"
      ]
     },
     "metadata": {},
     "output_type": "display_data"
    },
    {
     "data": {
      "image/png": "[encoded data removed]",
      "text/plain": [
       "<Figure size 432x288 with 1 Axes>"
      ]
     },
     "metadata": {},
     "output_type": "display_data"
    },
    {
     "data": {
      "image/png": "[encoded data removed]",
      "text/plain": [
       "<Figure size 432x288 with 1 Axes>"
      ]
     },
     "metadata": {},
     "output_type": "display_data"
    },
    {
     "data": {
      "image/png": "[encoded data removed]",
      "text/plain": [
       "<Figure size 432x288 with 1 Axes>"
      ]
     },
     "metadata": {},
     "output_type": "display_data"
    }
   ],
   "source": [
    "#Let see how our data is distributed \n",
    "for feature in df:\n",
    "        data=df.copy()\n",
    "        data[feature].hist(grid=False,color='pink')\n",
    "        plt.title(feature)\n",
    "        plt.show()"
   ]
  },
  {
   "cell_type": "code",
   "execution_count": 129,
   "metadata": {},
   "outputs": [
    {
     "data": {
      "image/png": "[encoded data removed]",
      "text/plain": [
       "<Figure size 1080x1080 with 2 Axes>"
      ]
     },
     "metadata": {},
     "output_type": "display_data"
    }
   ],
   "source": [
    "import seaborn as sns\n",
    "#get correlations of each features in dataset\n",
    "corrmat = df.corr()\n",
    "top_corr_features = corrmat.index\n",
    "plt.figure(figsize=(15,15))\n",
    "#plot heat map\n",
    "g=sns.heatmap(df[top_corr_features].corr(),annot=True,cmap=\"RdYlGn\")"
   ]
  },
  {
   "cell_type": "code",
   "execution_count": 130,
   "metadata": {},
   "outputs": [
    {
     "data": {
      "text/html": [
       "<div>\n",
       "<style scoped>\n",
       "    .dataframe tbody tr th:only-of-type {\n",
       "        vertical-align: middle;\n",
       "    }\n",
       "\n",
       "    .dataframe tbody tr th {\n",
       "        vertical-align: top;\n",
       "    }\n",
       "\n",
       "    .dataframe thead th {\n",
       "        text-align: right;\n",
       "    }\n",
       "</style>\n",
       "<table border=\"1\" class=\"dataframe\">\n",
       "  <thead>\n",
       "    <tr style=\"text-align: right;\">\n",
       "      <th></th>\n",
       "      <th>T</th>\n",
       "      <th>TM</th>\n",
       "      <th>Tm</th>\n",
       "      <th>SLP</th>\n",
       "      <th>H</th>\n",
       "      <th>VV</th>\n",
       "      <th>V</th>\n",
       "      <th>VM</th>\n",
       "      <th>PM 2.5</th>\n",
       "    </tr>\n",
       "  </thead>\n",
       "  <tbody>\n",
       "    <tr>\n",
       "      <th>T</th>\n",
       "      <td>1.000000</td>\n",
       "      <td>0.967276</td>\n",
       "      <td>0.958892</td>\n",
       "      <td>-0.884383</td>\n",
       "      <td>-0.518870</td>\n",
       "      <td>0.622637</td>\n",
       "      <td>0.326067</td>\n",
       "      <td>0.287138</td>\n",
       "      <td>-0.628336</td>\n",
       "    </tr>\n",
       "    <tr>\n",
       "      <th>TM</th>\n",
       "      <td>0.967276</td>\n",
       "      <td>1.000000</td>\n",
       "      <td>0.896699</td>\n",
       "      <td>-0.829254</td>\n",
       "      <td>-0.599629</td>\n",
       "      <td>0.598479</td>\n",
       "      <td>0.320116</td>\n",
       "      <td>0.299508</td>\n",
       "      <td>-0.569381</td>\n",
       "    </tr>\n",
       "    <tr>\n",
       "      <th>Tm</th>\n",
       "      <td>0.958892</td>\n",
       "      <td>0.896699</td>\n",
       "      <td>1.000000</td>\n",
       "      <td>-0.909514</td>\n",
       "      <td>-0.315305</td>\n",
       "      <td>0.560299</td>\n",
       "      <td>0.312904</td>\n",
       "      <td>0.259431</td>\n",
       "      <td>-0.669059</td>\n",
       "    </tr>\n",
       "    <tr>\n",
       "      <th>SLP</th>\n",
       "      <td>-0.884383</td>\n",
       "      <td>-0.829254</td>\n",
       "      <td>-0.909514</td>\n",
       "      <td>1.000000</td>\n",
       "      <td>0.274196</td>\n",
       "      <td>-0.491842</td>\n",
       "      <td>-0.346130</td>\n",
       "      <td>-0.299830</td>\n",
       "      <td>0.615615</td>\n",
       "    </tr>\n",
       "    <tr>\n",
       "      <th>H</th>\n",
       "      <td>-0.518870</td>\n",
       "      <td>-0.599629</td>\n",
       "      <td>-0.315305</td>\n",
       "      <td>0.274196</td>\n",
       "      <td>1.000000</td>\n",
       "      <td>-0.475279</td>\n",
       "      <td>-0.399079</td>\n",
       "      <td>-0.370981</td>\n",
       "      <td>0.174658</td>\n",
       "    </tr>\n",
       "    <tr>\n",
       "      <th>VV</th>\n",
       "      <td>0.622637</td>\n",
       "      <td>0.598479</td>\n",
       "      <td>0.560299</td>\n",
       "      <td>-0.491842</td>\n",
       "      <td>-0.475279</td>\n",
       "      <td>1.000000</td>\n",
       "      <td>0.402884</td>\n",
       "      <td>0.347493</td>\n",
       "      <td>-0.628621</td>\n",
       "    </tr>\n",
       "    <tr>\n",
       "      <th>V</th>\n",
       "      <td>0.326067</td>\n",
       "      <td>0.320116</td>\n",
       "      <td>0.312904</td>\n",
       "      <td>-0.346130</td>\n",
       "      <td>-0.399079</td>\n",
       "      <td>0.402884</td>\n",
       "      <td>1.000000</td>\n",
       "      <td>0.760777</td>\n",
       "      <td>-0.354799</td>\n",
       "    </tr>\n",
       "    <tr>\n",
       "      <th>VM</th>\n",
       "      <td>0.287138</td>\n",
       "      <td>0.299508</td>\n",
       "      <td>0.259431</td>\n",
       "      <td>-0.299830</td>\n",
       "      <td>-0.370981</td>\n",
       "      <td>0.347493</td>\n",
       "      <td>0.760777</td>\n",
       "      <td>1.000000</td>\n",
       "      <td>-0.283695</td>\n",
       "    </tr>\n",
       "    <tr>\n",
       "      <th>PM 2.5</th>\n",
       "      <td>-0.628336</td>\n",
       "      <td>-0.569381</td>\n",
       "      <td>-0.669059</td>\n",
       "      <td>0.615615</td>\n",
       "      <td>0.174658</td>\n",
       "      <td>-0.628621</td>\n",
       "      <td>-0.354799</td>\n",
       "      <td>-0.283695</td>\n",
       "      <td>1.000000</td>\n",
       "    </tr>\n",
       "  </tbody>\n",
       "</table>\n",
       "</div>"
      ],
      "text/plain": [
       "               T        TM        Tm       SLP         H        VV         V  \\\n",
       "T       1.000000  0.967276  0.958892 -0.884383 -0.518870  0.622637  0.326067   \n",
       "TM      0.967276  1.000000  0.896699 -0.829254 -0.599629  0.598479  0.320116   \n",
       "Tm      0.958892  0.896699  1.000000 -0.909514 -0.315305  0.560299  0.312904   \n",
       "SLP    -0.884383 -0.829254 -0.909514  1.000000  0.274196 -0.491842 -0.346130   \n",
       "H      -0.518870 -0.599629 -0.315305  0.274196  1.000000 -0.475279 -0.399079   \n",
       "VV      0.622637  0.598479  0.560299 -0.491842 -0.475279  1.000000  0.402884   \n",
       "V       0.326067  0.320116  0.312904 -0.346130 -0.399079  0.402884  1.000000   \n",
       "VM      0.287138  0.299508  0.259431 -0.299830 -0.370981  0.347493  0.760777   \n",
       "PM 2.5 -0.628336 -0.569381 -0.669059  0.615615  0.174658 -0.628621 -0.354799   \n",
       "\n",
       "              VM    PM 2.5  \n",
       "T       0.287138 -0.628336  \n",
       "TM      0.299508 -0.569381  \n",
       "Tm      0.259431 -0.669059  \n",
       "SLP    -0.299830  0.615615  \n",
       "H      -0.370981  0.174658  \n",
       "VV      0.347493 -0.628621  \n",
       "V       0.760777 -0.354799  \n",
       "VM      1.000000 -0.283695  \n",
       "PM 2.5 -0.283695  1.000000  "
      ]
     },
     "execution_count": 130,
     "metadata": {},
     "output_type": "execute_result"
    }
   ],
   "source": [
    "df.corr()"
   ]
  },
  {
   "cell_type": "code",
   "execution_count": 5,
   "metadata": {},
   "outputs": [],
   "source": [
    "#Creat X and Y\n",
    "X=df.iloc[:,:-1] ## independent features\n",
    "y=df.iloc[:,-1] ## dependent features\n"
   ]
  },
  {
   "cell_type": "code",
   "execution_count": 6,
   "metadata": {},
   "outputs": [
    {
     "data": {
      "text/plain": [
       "LinearRegression(copy_X=True, fit_intercept=True, n_jobs=None, normalize=False)"
      ]
     },
     "execution_count": 6,
     "metadata": {},
     "output_type": "execute_result"
    }
   ],
   "source": [
    "from sklearn.linear_model import LinearRegression\n",
    "import statsmodels.formula.api as smf\n",
    "lm=LinearRegression()\n",
    "lm.fit(X,y)"
   ]
  },
  {
   "cell_type": "code",
   "execution_count": 133,
   "metadata": {},
   "outputs": [
    {
     "name": "stdout",
     "output_type": "stream",
     "text": [
      "-190.4721207703305\n",
      "[ 2.18067622e+00  2.08889987e-01 -6.64702238e+00  5.31640302e-01\n",
      " -9.00411218e-01 -5.21603278e+01 -2.26097705e+00 -3.09509010e-02]\n"
     ]
    }
   ],
   "source": [
    "\n",
    "# print intercept and coefficients\n",
    "print(lm.intercept_)\n",
    "print(lm.coef_)"
   ]
  },
  {
   "cell_type": "code",
   "execution_count": 134,
   "metadata": {},
   "outputs": [
    {
     "name": "stderr",
     "output_type": "stream",
     "text": [
      "/home/stellapps/anaconda3/lib/python3.7/site-packages/sklearn/ensemble/forest.py:245: FutureWarning: The default value of n_estimators will change from 10 in version 0.20 to 100 in 0.22.\n",
      "  \"10 in version 0.20 to 100 in 0.22.\", FutureWarning)\n"
     ]
    },
    {
     "data": {
      "text/plain": [
       "ExtraTreesRegressor(bootstrap=False, criterion='mse', max_depth=None,\n",
       "                    max_features='auto', max_leaf_nodes=None,\n",
       "                    min_impurity_decrease=0.0, min_impurity_split=None,\n",
       "                    min_samples_leaf=1, min_samples_split=2,\n",
       "                    min_weight_fraction_leaf=0.0, n_estimators=10, n_jobs=None,\n",
       "                    oob_score=False, random_state=None, verbose=0,\n",
       "                    warm_start=False)"
      ]
     },
     "execution_count": 134,
     "metadata": {},
     "output_type": "execute_result"
    }
   ],
   "source": [
    "from sklearn.ensemble import ExtraTreesRegressor\n",
    "import matplotlib.pyplot as plt\n",
    "model = ExtraTreesRegressor()\n",
    "model.fit(X,y)"
   ]
  },
  {
   "cell_type": "code",
   "execution_count": 135,
   "metadata": {},
   "outputs": [
    {
     "name": "stdout",
     "output_type": "stream",
     "text": [
      "[0.19834856 0.06060006 0.19183062 0.11314745 0.08019154 0.27135722\n",
      " 0.04602274 0.03850181]\n"
     ]
    }
   ],
   "source": [
    "print(model.feature_importances_)"
   ]
  },
  {
   "cell_type": "code",
   "execution_count": 136,
   "metadata": {},
   "outputs": [
    {
     "data": {
      "image/png": "[encoded data removed]",
      "text/plain": [
       "<Figure size 432x288 with 1 Axes>"
      ]
     },
     "metadata": {},
     "output_type": "display_data"
    }
   ],
   "source": [
    "#plot graph of feature importances for better visualization\n",
    "feat_importances = pd.Series(model.feature_importances_, index=X.columns)\n",
    "feat_importances.nlargest(5).plot(kind='barh')\n",
    "plt.show()"
   ]
  },
  {
   "cell_type": "code",
   "execution_count": 7,
   "metadata": {},
   "outputs": [],
   "source": [
    "#Train Test Split\n",
    "from sklearn.model_selection import train_test_split\n",
    "X_train, X_test, y_train, y_test = train_test_split(X, y, test_size=0.3, random_state=0)"
   ]
  },
  {
   "cell_type": "code",
   "execution_count": 8,
   "metadata": {},
   "outputs": [],
   "source": [
    "from sklearn.linear_model import LinearRegression\n",
    "lr=LinearRegression()\n"
   ]
  },
  {
   "cell_type": "code",
   "execution_count": 9,
   "metadata": {},
   "outputs": [
    {
     "data": {
      "text/plain": [
       "LinearRegression(copy_X=True, fit_intercept=True, n_jobs=None, normalize=False)"
      ]
     },
     "execution_count": 9,
     "metadata": {},
     "output_type": "execute_result"
    }
   ],
   "source": [
    "lr.fit(X_train,y_train)  "
   ]
  },
  {
   "cell_type": "code",
   "execution_count": 10,
   "metadata": {},
   "outputs": [
    {
     "data": {
      "text/plain": [
       "0.6007706404750855"
      ]
     },
     "execution_count": 10,
     "metadata": {},
     "output_type": "execute_result"
    }
   ],
   "source": [
    "lr.score(X_train,y_train) #Training Score"
   ]
  },
  {
   "cell_type": "code",
   "execution_count": 11,
   "metadata": {},
   "outputs": [
    {
     "data": {
      "text/plain": [
       "0.5316188612878152"
      ]
     },
     "execution_count": 11,
     "metadata": {},
     "output_type": "execute_result"
    }
   ],
   "source": [
    "lr.score(X_test,y_test)  #Testing Score"
   ]
  },
  {
   "cell_type": "markdown",
   "metadata": {},
   "source": [
    "Test Score is less than the train score ,\n",
    "Let's check any overfitting in data"
   ]
  },
  {
   "cell_type": "code",
   "execution_count": 12,
   "metadata": {},
   "outputs": [
    {
     "data": {
      "text/plain": [
       "LassoCV(alphas=None, copy_X=True, cv=10, eps=0.001, fit_intercept=True,\n",
       "        max_iter=100000, n_alphas=100, n_jobs=None, normalize=True,\n",
       "        positive=False, precompute='auto', random_state=None,\n",
       "        selection='cyclic', tol=0.0001, verbose=False)"
      ]
     },
     "execution_count": 12,
     "metadata": {},
     "output_type": "execute_result"
    }
   ],
   "source": [
    "# Lasso Regularization\n",
    "# LassoCV will return best alpha and coefficients after performing 10 cross validations\n",
    "lasscv = LassoCV(alphas = None,cv =10, max_iter = 100000, normalize = True)\n",
    "lasscv.fit(X_train, y_train)"
   ]
  },
  {
   "cell_type": "code",
   "execution_count": 13,
   "metadata": {},
   "outputs": [
    {
     "data": {
      "text/plain": [
       "0.04115849433237686"
      ]
     },
     "execution_count": 13,
     "metadata": {},
     "output_type": "execute_result"
    }
   ],
   "source": [
    "# best alpha parameter\n",
    "alpha = lasscv.alpha_\n",
    "alpha"
   ]
  },
  {
   "cell_type": "code",
   "execution_count": 14,
   "metadata": {},
   "outputs": [
    {
     "data": {
      "text/plain": [
       "Lasso(alpha=0.04115849433237686, copy_X=True, fit_intercept=True, max_iter=1000,\n",
       "      normalize=False, positive=False, precompute=False, random_state=None,\n",
       "      selection='cyclic', tol=0.0001, warm_start=False)"
      ]
     },
     "execution_count": 14,
     "metadata": {},
     "output_type": "execute_result"
    }
   ],
   "source": [
    "#now that we have best parameter, let's use Lasso regression and see how well our data has fitted before\n",
    "\n",
    "lasso_reg = Lasso(alpha)\n",
    "lasso_reg.fit(X_train, y_train)"
   ]
  },
  {
   "cell_type": "code",
   "execution_count": 15,
   "metadata": {},
   "outputs": [
    {
     "data": {
      "text/plain": [
       "0.5316251942172354"
      ]
     },
     "execution_count": 15,
     "metadata": {},
     "output_type": "execute_result"
    }
   ],
   "source": [
    "lasso_reg.score(X_test, y_test)"
   ]
  },
  {
   "cell_type": "markdown",
   "metadata": {},
   "source": [
    "Test score is same even after and before the overfitting of model"
   ]
  },
  {
   "cell_type": "code",
   "execution_count": 16,
   "metadata": {},
   "outputs": [
    {
     "data": {
      "text/plain": [
       "RidgeCV(alphas=array([ 0.1,  1. , 10. ]), cv=None, fit_intercept=True,\n",
       "        gcv_mode=None, normalize=False, scoring=None, store_cv_values=False)"
      ]
     },
     "execution_count": 16,
     "metadata": {},
     "output_type": "execute_result"
    }
   ],
   "source": [
    "ridgecv = RidgeCV(alphas=(0.1, 1.0, 10.0),\n",
    "    fit_intercept=True,\n",
    "    normalize=False,\n",
    "    scoring=None,\n",
    "    cv=None,\n",
    "    gcv_mode=None,\n",
    "    store_cv_values=False,)\n",
    "ridgecv.fit(X_train, y_train)"
   ]
  },
  {
   "cell_type": "code",
   "execution_count": 17,
   "metadata": {},
   "outputs": [
    {
     "data": {
      "text/plain": [
       "1.0"
      ]
     },
     "execution_count": 17,
     "metadata": {},
     "output_type": "execute_result"
    }
   ],
   "source": [
    "ridgecv.alpha_"
   ]
  },
  {
   "cell_type": "code",
   "execution_count": 18,
   "metadata": {},
   "outputs": [
    {
     "data": {
      "text/plain": [
       "Ridge(alpha=1.0, copy_X=True, fit_intercept=True, max_iter=None,\n",
       "      normalize=False, random_state=None, solver='auto', tol=0.001)"
      ]
     },
     "execution_count": 18,
     "metadata": {},
     "output_type": "execute_result"
    }
   ],
   "source": [
    "ridge_model = Ridge(alpha=ridgecv.alpha_)\n",
    "ridge_model.fit(X_train, y_train)"
   ]
  },
  {
   "cell_type": "code",
   "execution_count": 19,
   "metadata": {},
   "outputs": [
    {
     "data": {
      "text/plain": [
       "0.5314406117659285"
      ]
     },
     "execution_count": 19,
     "metadata": {},
     "output_type": "execute_result"
    }
   ],
   "source": [
    "ridge_model.score(X_test, y_test)"
   ]
  },
  {
   "cell_type": "code",
   "execution_count": 27,
   "metadata": {},
   "outputs": [],
   "source": [
    "prediction=lr.predict(X_test)"
   ]
  },
  {
   "cell_type": "code",
   "execution_count": 28,
   "metadata": {},
   "outputs": [
    {
     "data": {
      "text/plain": [
       "0.46724362258523333"
      ]
     },
     "execution_count": 28,
     "metadata": {},
     "output_type": "execute_result"
    }
   ],
   "source": [
    "\n",
    "\n",
    "from sklearn.model_selection import cross_val_score\n",
    "score=cross_val_score(lr,X,y,cv=5)\n",
    "score.mean()\n"
   ]
  },
  {
   "cell_type": "code",
   "execution_count": 29,
   "metadata": {},
   "outputs": [
    {
     "data": {
      "text/plain": [
       "array([ 2.63949039e+00,  5.19978529e-01, -7.59811846e+00,  4.93219944e-01,\n",
       "       -8.37064222e-01, -5.04301355e+01, -2.75417778e+00, -3.92662839e-02])"
      ]
     },
     "execution_count": 29,
     "metadata": {},
     "output_type": "execute_result"
    }
   ],
   "source": [
    "lr.coef_   #Slope Indicates the where intersect an axxis"
   ]
  },
  {
   "cell_type": "code",
   "execution_count": 30,
   "metadata": {},
   "outputs": [
    {
     "data": {
      "text/plain": [
       "-157.37425475061315"
      ]
     },
     "execution_count": 30,
     "metadata": {},
     "output_type": "execute_result"
    }
   ],
   "source": [
    "lr.intercept_  #intercept indicates the stippness of the line"
   ]
  },
  {
   "cell_type": "markdown",
   "metadata": {},
   "source": [
    "# Model Evaluation"
   ]
  },
  {
   "cell_type": "code",
   "execution_count": 31,
   "metadata": {},
   "outputs": [
    {
     "name": "stdout",
     "output_type": "stream",
     "text": [
      "MAE: 40.28335537132943\n",
      "MSE: 3057.6641286741387\n",
      "RMSE: 55.296149311449696\n"
     ]
    }
   ],
   "source": [
    "from sklearn.metrics import mean_absolute_error,mean_squared_error,r2_score\n",
    "from sklearn import metrics\n",
    "print('MAE:', metrics.mean_absolute_error(y_test, prediction))\n",
    "print('MSE:', metrics.mean_squared_error(y_test, prediction))\n",
    "print('RMSE:', np.sqrt(metrics.mean_squared_error(y_test, prediction)))\n"
   ]
  },
  {
   "cell_type": "code",
   "execution_count": 32,
   "metadata": {},
   "outputs": [
    {
     "data": {
      "text/plain": [
       "<matplotlib.axes._subplots.AxesSubplot at 0x7fb108703e50>"
      ]
     },
     "execution_count": 32,
     "metadata": {},
     "output_type": "execute_result"
    },
    {
     "data": {
      "image/png": "[encoded data removed]",
      "text/plain": [
       "<Figure size 432x288 with 1 Axes>"
      ]
     },
     "metadata": {
      "needs_background": "light"
     },
     "output_type": "display_data"
    }
   ],
   "source": [
    "prediction=lr.predict(X_test)\n",
    "sns.distplot(y_test-prediction)"
   ]
  },
  {
   "cell_type": "code",
   "execution_count": 33,
   "metadata": {},
   "outputs": [
    {
     "data": {
      "text/plain": [
       "<matplotlib.collections.PathCollection at 0x7fb10860d1d0>"
      ]
     },
     "execution_count": 33,
     "metadata": {},
     "output_type": "execute_result"
    },
    {
     "data": {
      "image/png": "[encoded data removed]",
      "text/plain": [
       "<Figure size 432x288 with 1 Axes>"
      ]
     },
     "metadata": {
      "needs_background": "light"
     },
     "output_type": "display_data"
    }
   ],
   "source": [
    "plt.scatter(y_test,prediction,color='red')\n",
    "# first, plot the observed data\n"
   ]
  },
  {
   "cell_type": "code",
   "execution_count": 56,
   "metadata": {},
   "outputs": [
    {
     "data": {
      "text/plain": [
       "0.5316188612878152"
      ]
     },
     "execution_count": 56,
     "metadata": {},
     "output_type": "execute_result"
    }
   ],
   "source": [
    "r2_score(y_test,prediction)"
   ]
  },
  {
   "cell_type": "code",
   "execution_count": 35,
   "metadata": {},
   "outputs": [
    {
     "data": {
      "text/html": [
       "<div>\n",
       "<style scoped>\n",
       "    .dataframe tbody tr th:only-of-type {\n",
       "        vertical-align: middle;\n",
       "    }\n",
       "\n",
       "    .dataframe tbody tr th {\n",
       "        vertical-align: top;\n",
       "    }\n",
       "\n",
       "    .dataframe thead th {\n",
       "        text-align: right;\n",
       "    }\n",
       "</style>\n",
       "<table border=\"1\" class=\"dataframe\">\n",
       "  <thead>\n",
       "    <tr style=\"text-align: right;\">\n",
       "      <th></th>\n",
       "      <th>Predicted_output</th>\n",
       "    </tr>\n",
       "  </thead>\n",
       "  <tbody>\n",
       "    <tr>\n",
       "      <th>0</th>\n",
       "      <td>189.332038</td>\n",
       "    </tr>\n",
       "    <tr>\n",
       "      <th>1</th>\n",
       "      <td>242.249617</td>\n",
       "    </tr>\n",
       "    <tr>\n",
       "      <th>2</th>\n",
       "      <td>244.470361</td>\n",
       "    </tr>\n",
       "    <tr>\n",
       "      <th>3</th>\n",
       "      <td>92.255655</td>\n",
       "    </tr>\n",
       "    <tr>\n",
       "      <th>4</th>\n",
       "      <td>127.853141</td>\n",
       "    </tr>\n",
       "  </tbody>\n",
       "</table>\n",
       "</div>"
      ],
      "text/plain": [
       "   Predicted_output\n",
       "0        189.332038\n",
       "1        242.249617\n",
       "2        244.470361\n",
       "3         92.255655\n",
       "4        127.853141"
      ]
     },
     "execution_count": 35,
     "metadata": {},
     "output_type": "execute_result"
    }
   ],
   "source": [
    "#Final output file\n",
    "predictions=pd.DataFrame(prediction,columns = ['Predicted_output'])\n",
    "predictions.head()"
   ]
  },
  {
   "cell_type": "code",
   "execution_count": 36,
   "metadata": {},
   "outputs": [
    {
     "data": {
      "text/plain": [
       "Predicted_output    108.694894\n",
       "dtype: float64"
      ]
     },
     "execution_count": 36,
     "metadata": {},
     "output_type": "execute_result"
    }
   ],
   "source": [
    "#Mean of predicted output\n",
    "predictions.mean()"
   ]
  },
  {
   "cell_type": "code",
   "execution_count": 156,
   "metadata": {},
   "outputs": [],
   "source": [
    "import pickle\n",
    "# open a file, where you ant to store the data\n",
    "file = open('regression_model.pkl', 'wb')\n",
    "\n",
    "# dump information to that file\n",
    "pickle.dump(lr, file)"
   ]
  },
  {
   "cell_type": "code",
   "execution_count": null,
   "metadata": {},
   "outputs": [],
   "source": []
  },
  {
   "cell_type": "markdown",
   "metadata": {},
   "source": [
    "# Random Forest"
   ]
  },
  {
   "cell_type": "code",
   "execution_count": 37,
   "metadata": {},
   "outputs": [
    {
     "name": "stderr",
     "output_type": "stream",
     "text": [
      "/home/stellapps/anaconda3/lib/python3.7/site-packages/sklearn/ensemble/forest.py:245: FutureWarning: The default value of n_estimators will change from 10 in version 0.20 to 100 in 0.22.\n",
      "  \"10 in version 0.20 to 100 in 0.22.\", FutureWarning)\n"
     ]
    },
    {
     "data": {
      "text/plain": [
       "RandomForestRegressor(bootstrap=True, criterion='mse', max_depth=None,\n",
       "                      max_features='auto', max_leaf_nodes=None,\n",
       "                      min_impurity_decrease=0.0, min_impurity_split=None,\n",
       "                      min_samples_leaf=1, min_samples_split=2,\n",
       "                      min_weight_fraction_leaf=0.0, n_estimators=10,\n",
       "                      n_jobs=None, oob_score=False, random_state=None,\n",
       "                      verbose=0, warm_start=False)"
      ]
     },
     "execution_count": 37,
     "metadata": {},
     "output_type": "execute_result"
    }
   ],
   "source": [
    "from sklearn.ensemble import RandomForestRegressor\n",
    "RF=RandomForestRegressor()\n",
    "RF.fit(X_train,y_train)"
   ]
  },
  {
   "cell_type": "code",
   "execution_count": 38,
   "metadata": {},
   "outputs": [
    {
     "data": {
      "text/plain": [
       "0.920056424841701"
      ]
     },
     "execution_count": 38,
     "metadata": {},
     "output_type": "execute_result"
    }
   ],
   "source": [
    "RF.score(X_train,y_train)   #Training Score"
   ]
  },
  {
   "cell_type": "code",
   "execution_count": 39,
   "metadata": {},
   "outputs": [
    {
     "data": {
      "text/plain": [
       "0.6370502909607737"
      ]
     },
     "execution_count": 39,
     "metadata": {},
     "output_type": "execute_result"
    }
   ],
   "source": [
    "RF.score(X_test,y_test)   #Training Score"
   ]
  },
  {
   "cell_type": "markdown",
   "metadata": {},
   "source": [
    "Training dataset learn well and and we have score high, but in case of Test data we have an very less score ,\n",
    "this is to Overfitting condition,let me eliminate this problem using cross validation "
   ]
  },
  {
   "cell_type": "code",
   "execution_count": 40,
   "metadata": {
    "scrolled": true
   },
   "outputs": [
    {
     "data": {
      "text/plain": [
       "array([155.91      , 237.2375    , 255.81375   , 108.55125   ,\n",
       "       147.5375    ,  42.62916667,  36.00833333, 219.37916667,\n",
       "        49.1       , 190.125     , 105.39166667, 134.92083333,\n",
       "        93.17916667, 295.05833333, 217.88083333, 203.69208333,\n",
       "        89.44166667,  51.82083333, 172.58958333,  62.875     ,\n",
       "        78.5625    , 191.68083333,  28.59583333, 201.74583333,\n",
       "       210.90166667,  71.20416667,  89.67916667,  95.67916667,\n",
       "        86.52916667,  74.99583333, 180.82791667,  53.725     ,\n",
       "        67.72083333, 113.92583333, 181.3875    , 115.4875    ,\n",
       "       180.83041667, 275.13041667,  72.375     , 151.02916667,\n",
       "        46.87083333, 178.85125   ,  79.92083333, 132.95833333,\n",
       "        93.10833333,  76.43333333, 180.52625   ,  80.94166667,\n",
       "        49.39166667,  55.85833333, 121.72916667, 181.41708333,\n",
       "        25.3       , 219.79166667,  94.81666667,  75.69166667,\n",
       "       129.64583333,  41.55416667,  69.14166667, 171.78666667,\n",
       "        40.75      ,  78.175     ,  42.61666667,  56.02916667,\n",
       "       236.79916667,  94.21666667,  95.9625    ,  89.31666667,\n",
       "        88.4375    ,  44.4875    ,  40.79166667, 165.84875   ,\n",
       "        93.27083333, 123.30416667,  67.7375    , 206.72916667,\n",
       "        57.22916667, 137.0875    , 194.625     , 202.26541667,\n",
       "       120.995     ,  36.57083333, 196.79      ,  77.39166667,\n",
       "        67.59583333,  99.29166667, 176.88333333,  30.72083333,\n",
       "       182.29916667,  61.67083333, 176.19666667,  75.58333333,\n",
       "       179.03333333,  94.99583333,  66.46666667, 202.38458333,\n",
       "        38.65416667,  92.8625    , 174.46083333, 131.11666667,\n",
       "        81.9875    ,  51.82083333, 216.72541667,  29.2625    ,\n",
       "       170.00416667, 189.62958333,  25.175     ,  58.62916667,\n",
       "        44.3       , 104.48333333,  43.7375    ,  63.3625    ,\n",
       "        66.44583333,  84.72083333,  33.01666667, 236.05208333,\n",
       "        70.79166667,  33.55416667,  11.19583333,  55.82083333,\n",
       "        76.20416667, 173.65833333,  79.74166667, 187.80708333,\n",
       "        47.80833333,  47.94166667, 156.62625   , 180.14583333,\n",
       "        83.92916667,  61.81666667,  92.09166667,  39.71666667,\n",
       "        70.0125    ,  69.4375    , 138.84416667, 104.30416667,\n",
       "        38.79583333,  57.22083333,  67.525     , 102.76666667,\n",
       "        40.43333333,  33.29583333, 190.88291667,  65.85833333,\n",
       "        90.24583333,  51.85416667,  85.68333333,  49.35      ,\n",
       "        46.67083333,  71.72916667,  54.77916667,  65.5375    ,\n",
       "       134.13375   ,  83.95833333, 201.18      ,  82.5875    ,\n",
       "       112.65416667, 183.39916667,  42.51666667,  77.275     ,\n",
       "        36.74583333,  38.57083333, 248.5575    ,  43.02916667,\n",
       "        77.26666667, 212.05541667,  59.27083333, 238.645     ,\n",
       "        61.01666667,  90.38333333,  23.1875    ,  77.55833333,\n",
       "       205.4625    ,  40.65      , 182.95833333, 183.63208333,\n",
       "       249.04208333,  61.52916667,  26.7875    , 159.29291667,\n",
       "        48.22916667,  34.14166667, 110.49583333,  66.225     ,\n",
       "       129.8625    ,  84.34166667,  40.92083333,  83.80416667,\n",
       "        65.66666667,  89.99166667,  29.77916667,  73.32916667,\n",
       "        39.2875    ,  20.30833333,  70.61666667,  71.4875    ,\n",
       "       212.32375   ,  44.20833333,  38.79166667,  40.45833333,\n",
       "       225.7375    , 257.3225    ,  81.35833333,  46.21666667,\n",
       "       202.07916667, 249.36083333,  54.475     ,  96.12916667,\n",
       "       179.475     ,  59.01666667, 157.79708333, 178.74166667,\n",
       "        73.19166667,  70.02916667, 176.375     , 252.40416667,\n",
       "        96.91666667,  40.65      , 263.66      ])"
      ]
     },
     "execution_count": 40,
     "metadata": {},
     "output_type": "execute_result"
    }
   ],
   "source": [
    "predict=RF.predict(X_test)\n",
    "predict"
   ]
  },
  {
   "cell_type": "code",
   "execution_count": 41,
   "metadata": {},
   "outputs": [
    {
     "data": {
      "text/plain": [
       "108.29459665144594"
      ]
     },
     "execution_count": 41,
     "metadata": {},
     "output_type": "execute_result"
    }
   ],
   "source": [
    "predict.mean()"
   ]
  },
  {
   "cell_type": "code",
   "execution_count": 43,
   "metadata": {},
   "outputs": [
    {
     "data": {
      "text/plain": [
       "<matplotlib.axes._subplots.AxesSubplot at 0x7fb1017ecfd0>"
      ]
     },
     "execution_count": 43,
     "metadata": {},
     "output_type": "execute_result"
    },
    {
     "data": {
      "image/png": "[encoded data removed]",
      "text/plain": [
       "<Figure size 432x288 with 1 Axes>"
      ]
     },
     "metadata": {
      "needs_background": "light"
     },
     "output_type": "display_data"
    }
   ],
   "source": [
    "sns.distplot(y_test-predict)"
   ]
  },
  {
   "cell_type": "code",
   "execution_count": 53,
   "metadata": {},
   "outputs": [
    {
     "data": {
      "image/png": "[encoded data removed]",
      "text/plain": [
       "<Figure size 432x288 with 1 Axes>"
      ]
     },
     "metadata": {
      "needs_background": "light"
     },
     "output_type": "display_data"
    }
   ],
   "source": [
    "plt.scatter(y_test,predict)\n",
    "plt.show()"
   ]
  },
  {
   "cell_type": "code",
   "execution_count": 75,
   "metadata": {},
   "outputs": [
    {
     "name": "stdout",
     "output_type": "stream",
     "text": [
      "MAE: 35.063203957382036\n",
      "MSE: 2369.391536331494\n",
      "RMSE: 48.67639609021496\n"
     ]
    }
   ],
   "source": [
    "print('MAE:', metrics.mean_absolute_error(y_test, predict))\n",
    "print('MSE:', metrics.mean_squared_error(y_test, predict))\n",
    "print('RMSE:', np.sqrt(metrics.mean_squared_error(y_test, predict)))\n"
   ]
  },
  {
   "cell_type": "code",
   "execution_count": 55,
   "metadata": {},
   "outputs": [
    {
     "data": {
      "text/plain": [
       "0.6370502909607737"
      ]
     },
     "execution_count": 55,
     "metadata": {},
     "output_type": "execute_result"
    }
   ],
   "source": [
    "r2_score(y_test,predict)    "
   ]
  },
  {
   "cell_type": "markdown",
   "metadata": {},
   "source": [
    "# Model Tuning"
   ]
  },
  {
   "cell_type": "code",
   "execution_count": 58,
   "metadata": {},
   "outputs": [
    {
     "data": {
      "text/plain": [
       "array([0.49607427, 0.40516286, 0.57567089, 0.58146372, 0.36557169])"
      ]
     },
     "execution_count": 58,
     "metadata": {},
     "output_type": "execute_result"
    }
   ],
   "source": [
    "#Cross validation will solve a overfitting problem and gives a optimized model accuracy\n",
    "from sklearn.model_selection import cross_val_score\n",
    "cv=cross_val_score(RF,X,y,cv=5)\n",
    "cv"
   ]
  },
  {
   "cell_type": "code",
   "execution_count": 59,
   "metadata": {},
   "outputs": [
    {
     "data": {
      "text/plain": [
       "0.4847886857448399"
      ]
     },
     "execution_count": 59,
     "metadata": {},
     "output_type": "execute_result"
    }
   ],
   "source": [
    "cv.mean()"
   ]
  },
  {
   "cell_type": "code",
   "execution_count": 61,
   "metadata": {},
   "outputs": [],
   "source": [
    "from sklearn.model_selection import RandomizedSearchCV\n"
   ]
  },
  {
   "cell_type": "code",
   "execution_count": 63,
   "metadata": {},
   "outputs": [],
   "source": [
    "# Number of trees in random forest\n",
    "n_estimators = [100,200,300,500]\n",
    "# Number of features to consider at every split\n",
    "max_features = ['auto', 'sqrt']\n",
    "# Maximum number of levels in tree\n",
    "max_depth = [1,2,4,3,5]\n",
    "# max_depth.append(None)\n",
    "# Minimum number of samples required to split a node\n",
    "min_samples_split = [2, 5, 10, 15, 100]\n",
    "# Minimum number of samples required at each leaf node\n",
    "min_samples_leaf = [1, 2, 5, 10]"
   ]
  },
  {
   "cell_type": "code",
   "execution_count": 64,
   "metadata": {},
   "outputs": [
    {
     "name": "stdout",
     "output_type": "stream",
     "text": [
      "{'n_estimators': [100, 200, 300, 500], 'max_features': ['auto', 'sqrt'], 'max_depth': [1, 2, 4, 3, 5], 'min_samples_split': [2, 5, 10, 15, 100], 'min_samples_leaf': [1, 2, 5, 10]}\n"
     ]
    }
   ],
   "source": [
    "# Create the random grid\n",
    "random_grid = {'n_estimators': n_estimators,\n",
    "               'max_features': max_features,\n",
    "               'max_depth': max_depth,\n",
    "               'min_samples_split': min_samples_split,\n",
    "               'min_samples_leaf': min_samples_leaf}\n",
    "\n",
    "print(random_grid)"
   ]
  },
  {
   "cell_type": "code",
   "execution_count": 65,
   "metadata": {},
   "outputs": [],
   "source": [
    "from sklearn.model_selection import RandomizedSearchCV\n",
    "rf_random = RandomizedSearchCV(estimator = RF, param_distributions = random_grid,scoring='neg_mean_squared_error', n_iter = 100, cv = 5, verbose=2, random_state=42, n_jobs = 1)"
   ]
  },
  {
   "cell_type": "code",
   "execution_count": 66,
   "metadata": {},
   "outputs": [
    {
     "name": "stdout",
     "output_type": "stream",
     "text": [
      "Fitting 5 folds for each of 100 candidates, totalling 500 fits\n",
      "[CV] n_estimators=100, min_samples_split=100, min_samples_leaf=5, max_features=auto, max_depth=5 \n"
     ]
    },
    {
     "name": "stderr",
     "output_type": "stream",
     "text": [
      "[Parallel(n_jobs=1)]: Using backend SequentialBackend with 1 concurrent workers.\n"
     ]
    },
    {
     "name": "stdout",
     "output_type": "stream",
     "text": [
      "[CV]  n_estimators=100, min_samples_split=100, min_samples_leaf=5, max_features=auto, max_depth=5, total=   0.2s\n",
      "[CV] n_estimators=100, min_samples_split=100, min_samples_leaf=5, max_features=auto, max_depth=5 \n"
     ]
    },
    {
     "name": "stderr",
     "output_type": "stream",
     "text": [
      "[Parallel(n_jobs=1)]: Done   1 out of   1 | elapsed:    0.2s remaining:    0.0s\n"
     ]
    },
    {
     "name": "stdout",
     "output_type": "stream",
     "text": [
      "[CV]  n_estimators=100, min_samples_split=100, min_samples_leaf=5, max_features=auto, max_depth=5, total=   0.2s\n",
      "[CV] n_estimators=100, min_samples_split=100, min_samples_leaf=5, max_features=auto, max_depth=5 \n",
      "[CV]  n_estimators=100, min_samples_split=100, min_samples_leaf=5, max_features=auto, max_depth=5, total=   0.2s\n",
      "[CV] n_estimators=100, min_samples_split=100, min_samples_leaf=5, max_features=auto, max_depth=5 \n",
      "[CV]  n_estimators=100, min_samples_split=100, min_samples_leaf=5, max_features=auto, max_depth=5, total=   0.2s\n",
      "[CV] n_estimators=100, min_samples_split=100, min_samples_leaf=5, max_features=auto, max_depth=5 \n",
      "[CV]  n_estimators=100, min_samples_split=100, min_samples_leaf=5, max_features=auto, max_depth=5, total=   0.2s\n",
      "[CV] n_estimators=500, min_samples_split=5, min_samples_leaf=2, max_features=auto, max_depth=5 \n",
      "[CV]  n_estimators=500, min_samples_split=5, min_samples_leaf=2, max_features=auto, max_depth=5, total=   1.3s\n",
      "[CV] n_estimators=500, min_samples_split=5, min_samples_leaf=2, max_features=auto, max_depth=5 \n",
      "[CV]  n_estimators=500, min_samples_split=5, min_samples_leaf=2, max_features=auto, max_depth=5, total=   1.9s\n",
      "[CV] n_estimators=500, min_samples_split=5, min_samples_leaf=2, max_features=auto, max_depth=5 \n",
      "[CV]  n_estimators=500, min_samples_split=5, min_samples_leaf=2, max_features=auto, max_depth=5, total=   1.3s\n",
      "[CV] n_estimators=500, min_samples_split=5, min_samples_leaf=2, max_features=auto, max_depth=5 \n",
      "[CV]  n_estimators=500, min_samples_split=5, min_samples_leaf=2, max_features=auto, max_depth=5, total=   1.3s\n",
      "[CV] n_estimators=500, min_samples_split=5, min_samples_leaf=2, max_features=auto, max_depth=5 \n",
      "[CV]  n_estimators=500, min_samples_split=5, min_samples_leaf=2, max_features=auto, max_depth=5, total=   1.3s\n",
      "[CV] n_estimators=500, min_samples_split=2, min_samples_leaf=10, max_features=auto, max_depth=1 \n",
      "[CV]  n_estimators=500, min_samples_split=2, min_samples_leaf=10, max_features=auto, max_depth=1, total=   0.9s\n",
      "[CV] n_estimators=500, min_samples_split=2, min_samples_leaf=10, max_features=auto, max_depth=1 \n",
      "[CV]  n_estimators=500, min_samples_split=2, min_samples_leaf=10, max_features=auto, max_depth=1, total=   0.9s\n",
      "[CV] n_estimators=500, min_samples_split=2, min_samples_leaf=10, max_features=auto, max_depth=1 \n",
      "[CV]  n_estimators=500, min_samples_split=2, min_samples_leaf=10, max_features=auto, max_depth=1, total=   0.9s\n",
      "[CV] n_estimators=500, min_samples_split=2, min_samples_leaf=10, max_features=auto, max_depth=1 \n",
      "[CV]  n_estimators=500, min_samples_split=2, min_samples_leaf=10, max_features=auto, max_depth=1, total=   1.1s\n",
      "[CV] n_estimators=500, min_samples_split=2, min_samples_leaf=10, max_features=auto, max_depth=1 \n",
      "[CV]  n_estimators=500, min_samples_split=2, min_samples_leaf=10, max_features=auto, max_depth=1, total=   0.9s\n",
      "[CV] n_estimators=200, min_samples_split=15, min_samples_leaf=5, max_features=auto, max_depth=3 \n",
      "[CV]  n_estimators=200, min_samples_split=15, min_samples_leaf=5, max_features=auto, max_depth=3, total=   0.4s\n",
      "[CV] n_estimators=200, min_samples_split=15, min_samples_leaf=5, max_features=auto, max_depth=3 \n",
      "[CV]  n_estimators=200, min_samples_split=15, min_samples_leaf=5, max_features=auto, max_depth=3, total=   0.5s\n",
      "[CV] n_estimators=200, min_samples_split=15, min_samples_leaf=5, max_features=auto, max_depth=3 \n",
      "[CV]  n_estimators=200, min_samples_split=15, min_samples_leaf=5, max_features=auto, max_depth=3, total=   0.5s\n",
      "[CV] n_estimators=200, min_samples_split=15, min_samples_leaf=5, max_features=auto, max_depth=3 \n",
      "[CV]  n_estimators=200, min_samples_split=15, min_samples_leaf=5, max_features=auto, max_depth=3, total=   0.4s\n",
      "[CV] n_estimators=200, min_samples_split=15, min_samples_leaf=5, max_features=auto, max_depth=3 \n",
      "[CV]  n_estimators=200, min_samples_split=15, min_samples_leaf=5, max_features=auto, max_depth=3, total=   0.5s\n",
      "[CV] n_estimators=300, min_samples_split=5, min_samples_leaf=10, max_features=auto, max_depth=1 \n",
      "[CV]  n_estimators=300, min_samples_split=5, min_samples_leaf=10, max_features=auto, max_depth=1, total=   0.6s\n",
      "[CV] n_estimators=300, min_samples_split=5, min_samples_leaf=10, max_features=auto, max_depth=1 \n",
      "[CV]  n_estimators=300, min_samples_split=5, min_samples_leaf=10, max_features=auto, max_depth=1, total=   0.6s\n",
      "[CV] n_estimators=300, min_samples_split=5, min_samples_leaf=10, max_features=auto, max_depth=1 \n",
      "[CV]  n_estimators=300, min_samples_split=5, min_samples_leaf=10, max_features=auto, max_depth=1, total=   0.6s\n",
      "[CV] n_estimators=300, min_samples_split=5, min_samples_leaf=10, max_features=auto, max_depth=1 \n",
      "[CV]  n_estimators=300, min_samples_split=5, min_samples_leaf=10, max_features=auto, max_depth=1, total=   0.6s\n",
      "[CV] n_estimators=300, min_samples_split=5, min_samples_leaf=10, max_features=auto, max_depth=1 \n",
      "[CV]  n_estimators=300, min_samples_split=5, min_samples_leaf=10, max_features=auto, max_depth=1, total=   0.5s\n",
      "[CV] n_estimators=200, min_samples_split=2, min_samples_leaf=10, max_features=sqrt, max_depth=3 \n",
      "[CV]  n_estimators=200, min_samples_split=2, min_samples_leaf=10, max_features=sqrt, max_depth=3, total=   0.4s\n",
      "[CV] n_estimators=200, min_samples_split=2, min_samples_leaf=10, max_features=sqrt, max_depth=3 \n",
      "[CV]  n_estimators=200, min_samples_split=2, min_samples_leaf=10, max_features=sqrt, max_depth=3, total=   0.4s\n",
      "[CV] n_estimators=200, min_samples_split=2, min_samples_leaf=10, max_features=sqrt, max_depth=3 \n",
      "[CV]  n_estimators=200, min_samples_split=2, min_samples_leaf=10, max_features=sqrt, max_depth=3, total=   0.4s\n",
      "[CV] n_estimators=200, min_samples_split=2, min_samples_leaf=10, max_features=sqrt, max_depth=3 \n",
      "[CV]  n_estimators=200, min_samples_split=2, min_samples_leaf=10, max_features=sqrt, max_depth=3, total=   0.4s\n",
      "[CV] n_estimators=200, min_samples_split=2, min_samples_leaf=10, max_features=sqrt, max_depth=3 \n",
      "[CV]  n_estimators=200, min_samples_split=2, min_samples_leaf=10, max_features=sqrt, max_depth=3, total=   0.4s\n",
      "[CV] n_estimators=300, min_samples_split=5, min_samples_leaf=2, max_features=auto, max_depth=4 \n",
      "[CV]  n_estimators=300, min_samples_split=5, min_samples_leaf=2, max_features=auto, max_depth=4, total=   0.7s\n",
      "[CV] n_estimators=300, min_samples_split=5, min_samples_leaf=2, max_features=auto, max_depth=4 \n",
      "[CV]  n_estimators=300, min_samples_split=5, min_samples_leaf=2, max_features=auto, max_depth=4, total=   0.7s\n",
      "[CV] n_estimators=300, min_samples_split=5, min_samples_leaf=2, max_features=auto, max_depth=4 \n",
      "[CV]  n_estimators=300, min_samples_split=5, min_samples_leaf=2, max_features=auto, max_depth=4, total=   0.7s\n",
      "[CV] n_estimators=300, min_samples_split=5, min_samples_leaf=2, max_features=auto, max_depth=4 \n",
      "[CV]  n_estimators=300, min_samples_split=5, min_samples_leaf=2, max_features=auto, max_depth=4, total=   0.7s\n",
      "[CV] n_estimators=300, min_samples_split=5, min_samples_leaf=2, max_features=auto, max_depth=4 \n",
      "[CV]  n_estimators=300, min_samples_split=5, min_samples_leaf=2, max_features=auto, max_depth=4, total=   0.7s\n",
      "[CV] n_estimators=300, min_samples_split=10, min_samples_leaf=1, max_features=auto, max_depth=3 \n",
      "[CV]  n_estimators=300, min_samples_split=10, min_samples_leaf=1, max_features=auto, max_depth=3, total=   0.7s\n",
      "[CV] n_estimators=300, min_samples_split=10, min_samples_leaf=1, max_features=auto, max_depth=3 \n",
      "[CV]  n_estimators=300, min_samples_split=10, min_samples_leaf=1, max_features=auto, max_depth=3, total=   0.7s\n",
      "[CV] n_estimators=300, min_samples_split=10, min_samples_leaf=1, max_features=auto, max_depth=3 \n",
      "[CV]  n_estimators=300, min_samples_split=10, min_samples_leaf=1, max_features=auto, max_depth=3, total=   0.7s\n",
      "[CV] n_estimators=300, min_samples_split=10, min_samples_leaf=1, max_features=auto, max_depth=3 \n",
      "[CV]  n_estimators=300, min_samples_split=10, min_samples_leaf=1, max_features=auto, max_depth=3, total=   0.7s\n",
      "[CV] n_estimators=300, min_samples_split=10, min_samples_leaf=1, max_features=auto, max_depth=3 \n",
      "[CV]  n_estimators=300, min_samples_split=10, min_samples_leaf=1, max_features=auto, max_depth=3, total=   0.7s\n",
      "[CV] n_estimators=100, min_samples_split=2, min_samples_leaf=5, max_features=sqrt, max_depth=5 \n",
      "[CV]  n_estimators=100, min_samples_split=2, min_samples_leaf=5, max_features=sqrt, max_depth=5, total=   0.2s\n",
      "[CV] n_estimators=100, min_samples_split=2, min_samples_leaf=5, max_features=sqrt, max_depth=5 \n"
     ]
    },
    {
     "name": "stdout",
     "output_type": "stream",
     "text": [
      "[CV]  n_estimators=100, min_samples_split=2, min_samples_leaf=5, max_features=sqrt, max_depth=5, total=   0.2s\n",
      "[CV] n_estimators=100, min_samples_split=2, min_samples_leaf=5, max_features=sqrt, max_depth=5 \n",
      "[CV]  n_estimators=100, min_samples_split=2, min_samples_leaf=5, max_features=sqrt, max_depth=5, total=   0.2s\n",
      "[CV] n_estimators=100, min_samples_split=2, min_samples_leaf=5, max_features=sqrt, max_depth=5 \n",
      "[CV]  n_estimators=100, min_samples_split=2, min_samples_leaf=5, max_features=sqrt, max_depth=5, total=   0.2s\n",
      "[CV] n_estimators=100, min_samples_split=2, min_samples_leaf=5, max_features=sqrt, max_depth=5 \n",
      "[CV]  n_estimators=100, min_samples_split=2, min_samples_leaf=5, max_features=sqrt, max_depth=5, total=   0.2s\n",
      "[CV] n_estimators=100, min_samples_split=100, min_samples_leaf=5, max_features=sqrt, max_depth=4 \n",
      "[CV]  n_estimators=100, min_samples_split=100, min_samples_leaf=5, max_features=sqrt, max_depth=4, total=   0.2s\n",
      "[CV] n_estimators=100, min_samples_split=100, min_samples_leaf=5, max_features=sqrt, max_depth=4 \n",
      "[CV]  n_estimators=100, min_samples_split=100, min_samples_leaf=5, max_features=sqrt, max_depth=4, total=   0.2s\n",
      "[CV] n_estimators=100, min_samples_split=100, min_samples_leaf=5, max_features=sqrt, max_depth=4 \n",
      "[CV]  n_estimators=100, min_samples_split=100, min_samples_leaf=5, max_features=sqrt, max_depth=4, total=   0.2s\n",
      "[CV] n_estimators=100, min_samples_split=100, min_samples_leaf=5, max_features=sqrt, max_depth=4 \n",
      "[CV]  n_estimators=100, min_samples_split=100, min_samples_leaf=5, max_features=sqrt, max_depth=4, total=   0.2s\n",
      "[CV] n_estimators=100, min_samples_split=100, min_samples_leaf=5, max_features=sqrt, max_depth=4 \n",
      "[CV]  n_estimators=100, min_samples_split=100, min_samples_leaf=5, max_features=sqrt, max_depth=4, total=   0.2s\n",
      "[CV] n_estimators=200, min_samples_split=5, min_samples_leaf=10, max_features=auto, max_depth=1 \n",
      "[CV]  n_estimators=200, min_samples_split=5, min_samples_leaf=10, max_features=auto, max_depth=1, total=   0.4s\n",
      "[CV] n_estimators=200, min_samples_split=5, min_samples_leaf=10, max_features=auto, max_depth=1 \n",
      "[CV]  n_estimators=200, min_samples_split=5, min_samples_leaf=10, max_features=auto, max_depth=1, total=   0.4s\n",
      "[CV] n_estimators=200, min_samples_split=5, min_samples_leaf=10, max_features=auto, max_depth=1 \n",
      "[CV]  n_estimators=200, min_samples_split=5, min_samples_leaf=10, max_features=auto, max_depth=1, total=   0.4s\n",
      "[CV] n_estimators=200, min_samples_split=5, min_samples_leaf=10, max_features=auto, max_depth=1 \n",
      "[CV]  n_estimators=200, min_samples_split=5, min_samples_leaf=10, max_features=auto, max_depth=1, total=   0.4s\n",
      "[CV] n_estimators=200, min_samples_split=5, min_samples_leaf=10, max_features=auto, max_depth=1 \n",
      "[CV]  n_estimators=200, min_samples_split=5, min_samples_leaf=10, max_features=auto, max_depth=1, total=   0.4s\n",
      "[CV] n_estimators=300, min_samples_split=5, min_samples_leaf=5, max_features=sqrt, max_depth=2 \n",
      "[CV]  n_estimators=300, min_samples_split=5, min_samples_leaf=5, max_features=sqrt, max_depth=2, total=   0.5s\n",
      "[CV] n_estimators=300, min_samples_split=5, min_samples_leaf=5, max_features=sqrt, max_depth=2 \n",
      "[CV]  n_estimators=300, min_samples_split=5, min_samples_leaf=5, max_features=sqrt, max_depth=2, total=   0.5s\n",
      "[CV] n_estimators=300, min_samples_split=5, min_samples_leaf=5, max_features=sqrt, max_depth=2 \n",
      "[CV]  n_estimators=300, min_samples_split=5, min_samples_leaf=5, max_features=sqrt, max_depth=2, total=   0.5s\n",
      "[CV] n_estimators=300, min_samples_split=5, min_samples_leaf=5, max_features=sqrt, max_depth=2 \n",
      "[CV]  n_estimators=300, min_samples_split=5, min_samples_leaf=5, max_features=sqrt, max_depth=2, total=   0.5s\n",
      "[CV] n_estimators=300, min_samples_split=5, min_samples_leaf=5, max_features=sqrt, max_depth=2 \n",
      "[CV]  n_estimators=300, min_samples_split=5, min_samples_leaf=5, max_features=sqrt, max_depth=2, total=   0.5s\n",
      "[CV] n_estimators=500, min_samples_split=15, min_samples_leaf=10, max_features=sqrt, max_depth=3 \n",
      "[CV]  n_estimators=500, min_samples_split=15, min_samples_leaf=10, max_features=sqrt, max_depth=3, total=   0.9s\n",
      "[CV] n_estimators=500, min_samples_split=15, min_samples_leaf=10, max_features=sqrt, max_depth=3 \n",
      "[CV]  n_estimators=500, min_samples_split=15, min_samples_leaf=10, max_features=sqrt, max_depth=3, total=   0.9s\n",
      "[CV] n_estimators=500, min_samples_split=15, min_samples_leaf=10, max_features=sqrt, max_depth=3 \n",
      "[CV]  n_estimators=500, min_samples_split=15, min_samples_leaf=10, max_features=sqrt, max_depth=3, total=   0.9s\n",
      "[CV] n_estimators=500, min_samples_split=15, min_samples_leaf=10, max_features=sqrt, max_depth=3 \n",
      "[CV]  n_estimators=500, min_samples_split=15, min_samples_leaf=10, max_features=sqrt, max_depth=3, total=   0.9s\n",
      "[CV] n_estimators=500, min_samples_split=15, min_samples_leaf=10, max_features=sqrt, max_depth=3 \n",
      "[CV]  n_estimators=500, min_samples_split=15, min_samples_leaf=10, max_features=sqrt, max_depth=3, total=   0.9s\n",
      "[CV] n_estimators=500, min_samples_split=5, min_samples_leaf=10, max_features=auto, max_depth=1 \n",
      "[CV]  n_estimators=500, min_samples_split=5, min_samples_leaf=10, max_features=auto, max_depth=1, total=   0.9s\n",
      "[CV] n_estimators=500, min_samples_split=5, min_samples_leaf=10, max_features=auto, max_depth=1 \n",
      "[CV]  n_estimators=500, min_samples_split=5, min_samples_leaf=10, max_features=auto, max_depth=1, total=   0.9s\n",
      "[CV] n_estimators=500, min_samples_split=5, min_samples_leaf=10, max_features=auto, max_depth=1 \n",
      "[CV]  n_estimators=500, min_samples_split=5, min_samples_leaf=10, max_features=auto, max_depth=1, total=   0.9s\n",
      "[CV] n_estimators=500, min_samples_split=5, min_samples_leaf=10, max_features=auto, max_depth=1 \n",
      "[CV]  n_estimators=500, min_samples_split=5, min_samples_leaf=10, max_features=auto, max_depth=1, total=   0.9s\n",
      "[CV] n_estimators=500, min_samples_split=5, min_samples_leaf=10, max_features=auto, max_depth=1 \n",
      "[CV]  n_estimators=500, min_samples_split=5, min_samples_leaf=10, max_features=auto, max_depth=1, total=   0.9s\n",
      "[CV] n_estimators=500, min_samples_split=5, min_samples_leaf=1, max_features=auto, max_depth=4 \n",
      "[CV]  n_estimators=500, min_samples_split=5, min_samples_leaf=1, max_features=auto, max_depth=4, total=   1.2s\n",
      "[CV] n_estimators=500, min_samples_split=5, min_samples_leaf=1, max_features=auto, max_depth=4 \n",
      "[CV]  n_estimators=500, min_samples_split=5, min_samples_leaf=1, max_features=auto, max_depth=4, total=   1.2s\n",
      "[CV] n_estimators=500, min_samples_split=5, min_samples_leaf=1, max_features=auto, max_depth=4 \n",
      "[CV]  n_estimators=500, min_samples_split=5, min_samples_leaf=1, max_features=auto, max_depth=4, total=   1.2s\n",
      "[CV] n_estimators=500, min_samples_split=5, min_samples_leaf=1, max_features=auto, max_depth=4 \n",
      "[CV]  n_estimators=500, min_samples_split=5, min_samples_leaf=1, max_features=auto, max_depth=4, total=   1.2s\n",
      "[CV] n_estimators=500, min_samples_split=5, min_samples_leaf=1, max_features=auto, max_depth=4 \n",
      "[CV]  n_estimators=500, min_samples_split=5, min_samples_leaf=1, max_features=auto, max_depth=4, total=   1.2s\n",
      "[CV] n_estimators=500, min_samples_split=15, min_samples_leaf=10, max_features=auto, max_depth=4 \n",
      "[CV]  n_estimators=500, min_samples_split=15, min_samples_leaf=10, max_features=auto, max_depth=4, total=   1.2s\n",
      "[CV] n_estimators=500, min_samples_split=15, min_samples_leaf=10, max_features=auto, max_depth=4 \n",
      "[CV]  n_estimators=500, min_samples_split=15, min_samples_leaf=10, max_features=auto, max_depth=4, total=   1.1s\n",
      "[CV] n_estimators=500, min_samples_split=15, min_samples_leaf=10, max_features=auto, max_depth=4 \n",
      "[CV]  n_estimators=500, min_samples_split=15, min_samples_leaf=10, max_features=auto, max_depth=4, total=   1.2s\n",
      "[CV] n_estimators=500, min_samples_split=15, min_samples_leaf=10, max_features=auto, max_depth=4 \n",
      "[CV]  n_estimators=500, min_samples_split=15, min_samples_leaf=10, max_features=auto, max_depth=4, total=   1.1s\n",
      "[CV] n_estimators=500, min_samples_split=15, min_samples_leaf=10, max_features=auto, max_depth=4 \n",
      "[CV]  n_estimators=500, min_samples_split=15, min_samples_leaf=10, max_features=auto, max_depth=4, total=   1.2s\n",
      "[CV] n_estimators=100, min_samples_split=5, min_samples_leaf=1, max_features=sqrt, max_depth=2 \n",
      "[CV]  n_estimators=100, min_samples_split=5, min_samples_leaf=1, max_features=sqrt, max_depth=2, total=   0.2s\n",
      "[CV] n_estimators=100, min_samples_split=5, min_samples_leaf=1, max_features=sqrt, max_depth=2 \n"
     ]
    },
    {
     "name": "stdout",
     "output_type": "stream",
     "text": [
      "[CV]  n_estimators=100, min_samples_split=5, min_samples_leaf=1, max_features=sqrt, max_depth=2, total=   0.2s\n",
      "[CV] n_estimators=100, min_samples_split=5, min_samples_leaf=1, max_features=sqrt, max_depth=2 \n",
      "[CV]  n_estimators=100, min_samples_split=5, min_samples_leaf=1, max_features=sqrt, max_depth=2, total=   0.2s\n",
      "[CV] n_estimators=100, min_samples_split=5, min_samples_leaf=1, max_features=sqrt, max_depth=2 \n",
      "[CV]  n_estimators=100, min_samples_split=5, min_samples_leaf=1, max_features=sqrt, max_depth=2, total=   0.2s\n",
      "[CV] n_estimators=100, min_samples_split=5, min_samples_leaf=1, max_features=sqrt, max_depth=2 \n",
      "[CV]  n_estimators=100, min_samples_split=5, min_samples_leaf=1, max_features=sqrt, max_depth=2, total=   0.2s\n",
      "[CV] n_estimators=200, min_samples_split=100, min_samples_leaf=5, max_features=auto, max_depth=4 \n",
      "[CV]  n_estimators=200, min_samples_split=100, min_samples_leaf=5, max_features=auto, max_depth=4, total=   0.4s\n",
      "[CV] n_estimators=200, min_samples_split=100, min_samples_leaf=5, max_features=auto, max_depth=4 \n",
      "[CV]  n_estimators=200, min_samples_split=100, min_samples_leaf=5, max_features=auto, max_depth=4, total=   0.4s\n",
      "[CV] n_estimators=200, min_samples_split=100, min_samples_leaf=5, max_features=auto, max_depth=4 \n",
      "[CV]  n_estimators=200, min_samples_split=100, min_samples_leaf=5, max_features=auto, max_depth=4, total=   0.4s\n",
      "[CV] n_estimators=200, min_samples_split=100, min_samples_leaf=5, max_features=auto, max_depth=4 \n",
      "[CV]  n_estimators=200, min_samples_split=100, min_samples_leaf=5, max_features=auto, max_depth=4, total=   0.4s\n",
      "[CV] n_estimators=200, min_samples_split=100, min_samples_leaf=5, max_features=auto, max_depth=4 \n",
      "[CV]  n_estimators=200, min_samples_split=100, min_samples_leaf=5, max_features=auto, max_depth=4, total=   0.4s\n",
      "[CV] n_estimators=300, min_samples_split=10, min_samples_leaf=5, max_features=sqrt, max_depth=3 \n",
      "[CV]  n_estimators=300, min_samples_split=10, min_samples_leaf=5, max_features=sqrt, max_depth=3, total=   0.5s\n",
      "[CV] n_estimators=300, min_samples_split=10, min_samples_leaf=5, max_features=sqrt, max_depth=3 \n",
      "[CV]  n_estimators=300, min_samples_split=10, min_samples_leaf=5, max_features=sqrt, max_depth=3, total=   0.6s\n",
      "[CV] n_estimators=300, min_samples_split=10, min_samples_leaf=5, max_features=sqrt, max_depth=3 \n",
      "[CV]  n_estimators=300, min_samples_split=10, min_samples_leaf=5, max_features=sqrt, max_depth=3, total=   0.6s\n",
      "[CV] n_estimators=300, min_samples_split=10, min_samples_leaf=5, max_features=sqrt, max_depth=3 \n",
      "[CV]  n_estimators=300, min_samples_split=10, min_samples_leaf=5, max_features=sqrt, max_depth=3, total=   0.5s\n",
      "[CV] n_estimators=300, min_samples_split=10, min_samples_leaf=5, max_features=sqrt, max_depth=3 \n",
      "[CV]  n_estimators=300, min_samples_split=10, min_samples_leaf=5, max_features=sqrt, max_depth=3, total=   0.5s\n",
      "[CV] n_estimators=300, min_samples_split=5, min_samples_leaf=5, max_features=auto, max_depth=3 \n",
      "[CV]  n_estimators=300, min_samples_split=5, min_samples_leaf=5, max_features=auto, max_depth=3, total=   0.7s\n",
      "[CV] n_estimators=300, min_samples_split=5, min_samples_leaf=5, max_features=auto, max_depth=3 \n",
      "[CV]  n_estimators=300, min_samples_split=5, min_samples_leaf=5, max_features=auto, max_depth=3, total=   0.7s\n",
      "[CV] n_estimators=300, min_samples_split=5, min_samples_leaf=5, max_features=auto, max_depth=3 \n",
      "[CV]  n_estimators=300, min_samples_split=5, min_samples_leaf=5, max_features=auto, max_depth=3, total=   0.7s\n",
      "[CV] n_estimators=300, min_samples_split=5, min_samples_leaf=5, max_features=auto, max_depth=3 \n",
      "[CV]  n_estimators=300, min_samples_split=5, min_samples_leaf=5, max_features=auto, max_depth=3, total=   0.7s\n",
      "[CV] n_estimators=300, min_samples_split=5, min_samples_leaf=5, max_features=auto, max_depth=3 \n",
      "[CV]  n_estimators=300, min_samples_split=5, min_samples_leaf=5, max_features=auto, max_depth=3, total=   0.7s\n",
      "[CV] n_estimators=300, min_samples_split=100, min_samples_leaf=1, max_features=auto, max_depth=5 \n",
      "[CV]  n_estimators=300, min_samples_split=100, min_samples_leaf=1, max_features=auto, max_depth=5, total=   0.6s\n",
      "[CV] n_estimators=300, min_samples_split=100, min_samples_leaf=1, max_features=auto, max_depth=5 \n",
      "[CV]  n_estimators=300, min_samples_split=100, min_samples_leaf=1, max_features=auto, max_depth=5, total=   0.7s\n",
      "[CV] n_estimators=300, min_samples_split=100, min_samples_leaf=1, max_features=auto, max_depth=5 \n",
      "[CV]  n_estimators=300, min_samples_split=100, min_samples_leaf=1, max_features=auto, max_depth=5, total=   0.7s\n",
      "[CV] n_estimators=300, min_samples_split=100, min_samples_leaf=1, max_features=auto, max_depth=5 \n",
      "[CV]  n_estimators=300, min_samples_split=100, min_samples_leaf=1, max_features=auto, max_depth=5, total=   0.7s\n",
      "[CV] n_estimators=300, min_samples_split=100, min_samples_leaf=1, max_features=auto, max_depth=5 \n",
      "[CV]  n_estimators=300, min_samples_split=100, min_samples_leaf=1, max_features=auto, max_depth=5, total=   0.7s\n",
      "[CV] n_estimators=200, min_samples_split=10, min_samples_leaf=5, max_features=auto, max_depth=3 \n",
      "[CV]  n_estimators=200, min_samples_split=10, min_samples_leaf=5, max_features=auto, max_depth=3, total=   0.4s\n",
      "[CV] n_estimators=200, min_samples_split=10, min_samples_leaf=5, max_features=auto, max_depth=3 \n",
      "[CV]  n_estimators=200, min_samples_split=10, min_samples_leaf=5, max_features=auto, max_depth=3, total=   0.4s\n",
      "[CV] n_estimators=200, min_samples_split=10, min_samples_leaf=5, max_features=auto, max_depth=3 \n",
      "[CV]  n_estimators=200, min_samples_split=10, min_samples_leaf=5, max_features=auto, max_depth=3, total=   0.4s\n",
      "[CV] n_estimators=200, min_samples_split=10, min_samples_leaf=5, max_features=auto, max_depth=3 \n",
      "[CV]  n_estimators=200, min_samples_split=10, min_samples_leaf=5, max_features=auto, max_depth=3, total=   0.5s\n",
      "[CV] n_estimators=200, min_samples_split=10, min_samples_leaf=5, max_features=auto, max_depth=3 \n",
      "[CV]  n_estimators=200, min_samples_split=10, min_samples_leaf=5, max_features=auto, max_depth=3, total=   0.4s\n",
      "[CV] n_estimators=300, min_samples_split=2, min_samples_leaf=10, max_features=sqrt, max_depth=3 \n",
      "[CV]  n_estimators=300, min_samples_split=2, min_samples_leaf=10, max_features=sqrt, max_depth=3, total=   0.6s\n",
      "[CV] n_estimators=300, min_samples_split=2, min_samples_leaf=10, max_features=sqrt, max_depth=3 \n",
      "[CV]  n_estimators=300, min_samples_split=2, min_samples_leaf=10, max_features=sqrt, max_depth=3, total=   0.5s\n",
      "[CV] n_estimators=300, min_samples_split=2, min_samples_leaf=10, max_features=sqrt, max_depth=3 \n",
      "[CV]  n_estimators=300, min_samples_split=2, min_samples_leaf=10, max_features=sqrt, max_depth=3, total=   0.5s\n",
      "[CV] n_estimators=300, min_samples_split=2, min_samples_leaf=10, max_features=sqrt, max_depth=3 \n",
      "[CV]  n_estimators=300, min_samples_split=2, min_samples_leaf=10, max_features=sqrt, max_depth=3, total=   0.5s\n",
      "[CV] n_estimators=300, min_samples_split=2, min_samples_leaf=10, max_features=sqrt, max_depth=3 \n",
      "[CV]  n_estimators=300, min_samples_split=2, min_samples_leaf=10, max_features=sqrt, max_depth=3, total=   0.5s\n",
      "[CV] n_estimators=200, min_samples_split=2, min_samples_leaf=1, max_features=sqrt, max_depth=5 \n",
      "[CV]  n_estimators=200, min_samples_split=2, min_samples_leaf=1, max_features=sqrt, max_depth=5, total=   0.4s\n",
      "[CV] n_estimators=200, min_samples_split=2, min_samples_leaf=1, max_features=sqrt, max_depth=5 \n",
      "[CV]  n_estimators=200, min_samples_split=2, min_samples_leaf=1, max_features=sqrt, max_depth=5, total=   0.4s\n",
      "[CV] n_estimators=200, min_samples_split=2, min_samples_leaf=1, max_features=sqrt, max_depth=5 \n",
      "[CV]  n_estimators=200, min_samples_split=2, min_samples_leaf=1, max_features=sqrt, max_depth=5, total=   0.4s\n",
      "[CV] n_estimators=200, min_samples_split=2, min_samples_leaf=1, max_features=sqrt, max_depth=5 \n",
      "[CV]  n_estimators=200, min_samples_split=2, min_samples_leaf=1, max_features=sqrt, max_depth=5, total=   0.4s\n",
      "[CV] n_estimators=200, min_samples_split=2, min_samples_leaf=1, max_features=sqrt, max_depth=5 \n",
      "[CV]  n_estimators=200, min_samples_split=2, min_samples_leaf=1, max_features=sqrt, max_depth=5, total=   0.4s\n",
      "[CV] n_estimators=100, min_samples_split=2, min_samples_leaf=5, max_features=auto, max_depth=4 \n",
      "[CV]  n_estimators=100, min_samples_split=2, min_samples_leaf=5, max_features=auto, max_depth=4, total=   0.2s\n",
      "[CV] n_estimators=100, min_samples_split=2, min_samples_leaf=5, max_features=auto, max_depth=4 \n"
     ]
    },
    {
     "name": "stdout",
     "output_type": "stream",
     "text": [
      "[CV]  n_estimators=100, min_samples_split=2, min_samples_leaf=5, max_features=auto, max_depth=4, total=   0.2s\n",
      "[CV] n_estimators=100, min_samples_split=2, min_samples_leaf=5, max_features=auto, max_depth=4 \n",
      "[CV]  n_estimators=100, min_samples_split=2, min_samples_leaf=5, max_features=auto, max_depth=4, total=   0.2s\n",
      "[CV] n_estimators=100, min_samples_split=2, min_samples_leaf=5, max_features=auto, max_depth=4 \n",
      "[CV]  n_estimators=100, min_samples_split=2, min_samples_leaf=5, max_features=auto, max_depth=4, total=   0.2s\n",
      "[CV] n_estimators=100, min_samples_split=2, min_samples_leaf=5, max_features=auto, max_depth=4 \n",
      "[CV]  n_estimators=100, min_samples_split=2, min_samples_leaf=5, max_features=auto, max_depth=4, total=   0.2s\n",
      "[CV] n_estimators=300, min_samples_split=10, min_samples_leaf=2, max_features=auto, max_depth=1 \n",
      "[CV]  n_estimators=300, min_samples_split=10, min_samples_leaf=2, max_features=auto, max_depth=1, total=   0.6s\n",
      "[CV] n_estimators=300, min_samples_split=10, min_samples_leaf=2, max_features=auto, max_depth=1 \n",
      "[CV]  n_estimators=300, min_samples_split=10, min_samples_leaf=2, max_features=auto, max_depth=1, total=   0.5s\n",
      "[CV] n_estimators=300, min_samples_split=10, min_samples_leaf=2, max_features=auto, max_depth=1 \n",
      "[CV]  n_estimators=300, min_samples_split=10, min_samples_leaf=2, max_features=auto, max_depth=1, total=   0.6s\n",
      "[CV] n_estimators=300, min_samples_split=10, min_samples_leaf=2, max_features=auto, max_depth=1 \n",
      "[CV]  n_estimators=300, min_samples_split=10, min_samples_leaf=2, max_features=auto, max_depth=1, total=   0.5s\n",
      "[CV] n_estimators=300, min_samples_split=10, min_samples_leaf=2, max_features=auto, max_depth=1 \n",
      "[CV]  n_estimators=300, min_samples_split=10, min_samples_leaf=2, max_features=auto, max_depth=1, total=   0.6s\n",
      "[CV] n_estimators=100, min_samples_split=2, min_samples_leaf=2, max_features=sqrt, max_depth=2 \n",
      "[CV]  n_estimators=100, min_samples_split=2, min_samples_leaf=2, max_features=sqrt, max_depth=2, total=   0.2s\n",
      "[CV] n_estimators=100, min_samples_split=2, min_samples_leaf=2, max_features=sqrt, max_depth=2 \n",
      "[CV]  n_estimators=100, min_samples_split=2, min_samples_leaf=2, max_features=sqrt, max_depth=2, total=   0.2s\n",
      "[CV] n_estimators=100, min_samples_split=2, min_samples_leaf=2, max_features=sqrt, max_depth=2 \n",
      "[CV]  n_estimators=100, min_samples_split=2, min_samples_leaf=2, max_features=sqrt, max_depth=2, total=   0.2s\n",
      "[CV] n_estimators=100, min_samples_split=2, min_samples_leaf=2, max_features=sqrt, max_depth=2 \n",
      "[CV]  n_estimators=100, min_samples_split=2, min_samples_leaf=2, max_features=sqrt, max_depth=2, total=   0.2s\n",
      "[CV] n_estimators=100, min_samples_split=2, min_samples_leaf=2, max_features=sqrt, max_depth=2 \n",
      "[CV]  n_estimators=100, min_samples_split=2, min_samples_leaf=2, max_features=sqrt, max_depth=2, total=   0.2s\n",
      "[CV] n_estimators=200, min_samples_split=100, min_samples_leaf=10, max_features=sqrt, max_depth=3 \n",
      "[CV]  n_estimators=200, min_samples_split=100, min_samples_leaf=10, max_features=sqrt, max_depth=3, total=   0.4s\n",
      "[CV] n_estimators=200, min_samples_split=100, min_samples_leaf=10, max_features=sqrt, max_depth=3 \n",
      "[CV]  n_estimators=200, min_samples_split=100, min_samples_leaf=10, max_features=sqrt, max_depth=3, total=   0.4s\n",
      "[CV] n_estimators=200, min_samples_split=100, min_samples_leaf=10, max_features=sqrt, max_depth=3 \n",
      "[CV]  n_estimators=200, min_samples_split=100, min_samples_leaf=10, max_features=sqrt, max_depth=3, total=   0.4s\n",
      "[CV] n_estimators=200, min_samples_split=100, min_samples_leaf=10, max_features=sqrt, max_depth=3 \n",
      "[CV]  n_estimators=200, min_samples_split=100, min_samples_leaf=10, max_features=sqrt, max_depth=3, total=   0.4s\n",
      "[CV] n_estimators=200, min_samples_split=100, min_samples_leaf=10, max_features=sqrt, max_depth=3 \n",
      "[CV]  n_estimators=200, min_samples_split=100, min_samples_leaf=10, max_features=sqrt, max_depth=3, total=   0.4s\n",
      "[CV] n_estimators=300, min_samples_split=5, min_samples_leaf=2, max_features=sqrt, max_depth=5 \n",
      "[CV]  n_estimators=300, min_samples_split=5, min_samples_leaf=2, max_features=sqrt, max_depth=5, total=   0.6s\n",
      "[CV] n_estimators=300, min_samples_split=5, min_samples_leaf=2, max_features=sqrt, max_depth=5 \n",
      "[CV]  n_estimators=300, min_samples_split=5, min_samples_leaf=2, max_features=sqrt, max_depth=5, total=   0.6s\n",
      "[CV] n_estimators=300, min_samples_split=5, min_samples_leaf=2, max_features=sqrt, max_depth=5 \n",
      "[CV]  n_estimators=300, min_samples_split=5, min_samples_leaf=2, max_features=sqrt, max_depth=5, total=   0.6s\n",
      "[CV] n_estimators=300, min_samples_split=5, min_samples_leaf=2, max_features=sqrt, max_depth=5 \n",
      "[CV]  n_estimators=300, min_samples_split=5, min_samples_leaf=2, max_features=sqrt, max_depth=5, total=   0.6s\n",
      "[CV] n_estimators=300, min_samples_split=5, min_samples_leaf=2, max_features=sqrt, max_depth=5 \n",
      "[CV]  n_estimators=300, min_samples_split=5, min_samples_leaf=2, max_features=sqrt, max_depth=5, total=   0.6s\n",
      "[CV] n_estimators=300, min_samples_split=10, min_samples_leaf=1, max_features=sqrt, max_depth=3 \n",
      "[CV]  n_estimators=300, min_samples_split=10, min_samples_leaf=1, max_features=sqrt, max_depth=3, total=   0.6s\n",
      "[CV] n_estimators=300, min_samples_split=10, min_samples_leaf=1, max_features=sqrt, max_depth=3 \n",
      "[CV]  n_estimators=300, min_samples_split=10, min_samples_leaf=1, max_features=sqrt, max_depth=3, total=   0.6s\n",
      "[CV] n_estimators=300, min_samples_split=10, min_samples_leaf=1, max_features=sqrt, max_depth=3 \n",
      "[CV]  n_estimators=300, min_samples_split=10, min_samples_leaf=1, max_features=sqrt, max_depth=3, total=   0.6s\n",
      "[CV] n_estimators=300, min_samples_split=10, min_samples_leaf=1, max_features=sqrt, max_depth=3 \n",
      "[CV]  n_estimators=300, min_samples_split=10, min_samples_leaf=1, max_features=sqrt, max_depth=3, total=   0.6s\n",
      "[CV] n_estimators=300, min_samples_split=10, min_samples_leaf=1, max_features=sqrt, max_depth=3 \n",
      "[CV]  n_estimators=300, min_samples_split=10, min_samples_leaf=1, max_features=sqrt, max_depth=3, total=   0.5s\n",
      "[CV] n_estimators=500, min_samples_split=15, min_samples_leaf=5, max_features=auto, max_depth=2 \n",
      "[CV]  n_estimators=500, min_samples_split=15, min_samples_leaf=5, max_features=auto, max_depth=2, total=   1.0s\n",
      "[CV] n_estimators=500, min_samples_split=15, min_samples_leaf=5, max_features=auto, max_depth=2 \n",
      "[CV]  n_estimators=500, min_samples_split=15, min_samples_leaf=5, max_features=auto, max_depth=2, total=   1.0s\n",
      "[CV] n_estimators=500, min_samples_split=15, min_samples_leaf=5, max_features=auto, max_depth=2 \n",
      "[CV]  n_estimators=500, min_samples_split=15, min_samples_leaf=5, max_features=auto, max_depth=2, total=   1.0s\n",
      "[CV] n_estimators=500, min_samples_split=15, min_samples_leaf=5, max_features=auto, max_depth=2 \n",
      "[CV]  n_estimators=500, min_samples_split=15, min_samples_leaf=5, max_features=auto, max_depth=2, total=   1.0s\n",
      "[CV] n_estimators=500, min_samples_split=15, min_samples_leaf=5, max_features=auto, max_depth=2 \n",
      "[CV]  n_estimators=500, min_samples_split=15, min_samples_leaf=5, max_features=auto, max_depth=2, total=   1.0s\n",
      "[CV] n_estimators=300, min_samples_split=100, min_samples_leaf=10, max_features=auto, max_depth=1 \n",
      "[CV]  n_estimators=300, min_samples_split=100, min_samples_leaf=10, max_features=auto, max_depth=1, total=   0.5s\n",
      "[CV] n_estimators=300, min_samples_split=100, min_samples_leaf=10, max_features=auto, max_depth=1 \n",
      "[CV]  n_estimators=300, min_samples_split=100, min_samples_leaf=10, max_features=auto, max_depth=1, total=   0.5s\n",
      "[CV] n_estimators=300, min_samples_split=100, min_samples_leaf=10, max_features=auto, max_depth=1 \n",
      "[CV]  n_estimators=300, min_samples_split=100, min_samples_leaf=10, max_features=auto, max_depth=1, total=   0.6s\n",
      "[CV] n_estimators=300, min_samples_split=100, min_samples_leaf=10, max_features=auto, max_depth=1 \n",
      "[CV]  n_estimators=300, min_samples_split=100, min_samples_leaf=10, max_features=auto, max_depth=1, total=   0.6s\n",
      "[CV] n_estimators=300, min_samples_split=100, min_samples_leaf=10, max_features=auto, max_depth=1 \n",
      "[CV]  n_estimators=300, min_samples_split=100, min_samples_leaf=10, max_features=auto, max_depth=1, total=   0.5s\n",
      "[CV] n_estimators=300, min_samples_split=100, min_samples_leaf=1, max_features=sqrt, max_depth=3 \n",
      "[CV]  n_estimators=300, min_samples_split=100, min_samples_leaf=1, max_features=sqrt, max_depth=3, total=   0.5s\n",
      "[CV] n_estimators=300, min_samples_split=100, min_samples_leaf=1, max_features=sqrt, max_depth=3 \n"
     ]
    },
    {
     "name": "stdout",
     "output_type": "stream",
     "text": [
      "[CV]  n_estimators=300, min_samples_split=100, min_samples_leaf=1, max_features=sqrt, max_depth=3, total=   0.5s\n",
      "[CV] n_estimators=300, min_samples_split=100, min_samples_leaf=1, max_features=sqrt, max_depth=3 \n",
      "[CV]  n_estimators=300, min_samples_split=100, min_samples_leaf=1, max_features=sqrt, max_depth=3, total=   0.5s\n",
      "[CV] n_estimators=300, min_samples_split=100, min_samples_leaf=1, max_features=sqrt, max_depth=3 \n",
      "[CV]  n_estimators=300, min_samples_split=100, min_samples_leaf=1, max_features=sqrt, max_depth=3, total=   0.5s\n",
      "[CV] n_estimators=300, min_samples_split=100, min_samples_leaf=1, max_features=sqrt, max_depth=3 \n",
      "[CV]  n_estimators=300, min_samples_split=100, min_samples_leaf=1, max_features=sqrt, max_depth=3, total=   0.5s\n",
      "[CV] n_estimators=500, min_samples_split=2, min_samples_leaf=10, max_features=auto, max_depth=4 \n",
      "[CV]  n_estimators=500, min_samples_split=2, min_samples_leaf=10, max_features=auto, max_depth=4, total=   1.2s\n",
      "[CV] n_estimators=500, min_samples_split=2, min_samples_leaf=10, max_features=auto, max_depth=4 \n",
      "[CV]  n_estimators=500, min_samples_split=2, min_samples_leaf=10, max_features=auto, max_depth=4, total=   1.2s\n",
      "[CV] n_estimators=500, min_samples_split=2, min_samples_leaf=10, max_features=auto, max_depth=4 \n",
      "[CV]  n_estimators=500, min_samples_split=2, min_samples_leaf=10, max_features=auto, max_depth=4, total=   1.1s\n",
      "[CV] n_estimators=500, min_samples_split=2, min_samples_leaf=10, max_features=auto, max_depth=4 \n",
      "[CV]  n_estimators=500, min_samples_split=2, min_samples_leaf=10, max_features=auto, max_depth=4, total=   1.1s\n",
      "[CV] n_estimators=500, min_samples_split=2, min_samples_leaf=10, max_features=auto, max_depth=4 \n",
      "[CV]  n_estimators=500, min_samples_split=2, min_samples_leaf=10, max_features=auto, max_depth=4, total=   1.2s\n",
      "[CV] n_estimators=500, min_samples_split=100, min_samples_leaf=2, max_features=auto, max_depth=1 \n",
      "[CV]  n_estimators=500, min_samples_split=100, min_samples_leaf=2, max_features=auto, max_depth=1, total=   0.9s\n",
      "[CV] n_estimators=500, min_samples_split=100, min_samples_leaf=2, max_features=auto, max_depth=1 \n",
      "[CV]  n_estimators=500, min_samples_split=100, min_samples_leaf=2, max_features=auto, max_depth=1, total=   0.9s\n",
      "[CV] n_estimators=500, min_samples_split=100, min_samples_leaf=2, max_features=auto, max_depth=1 \n",
      "[CV]  n_estimators=500, min_samples_split=100, min_samples_leaf=2, max_features=auto, max_depth=1, total=   0.9s\n",
      "[CV] n_estimators=500, min_samples_split=100, min_samples_leaf=2, max_features=auto, max_depth=1 \n",
      "[CV]  n_estimators=500, min_samples_split=100, min_samples_leaf=2, max_features=auto, max_depth=1, total=   0.9s\n",
      "[CV] n_estimators=500, min_samples_split=100, min_samples_leaf=2, max_features=auto, max_depth=1 \n",
      "[CV]  n_estimators=500, min_samples_split=100, min_samples_leaf=2, max_features=auto, max_depth=1, total=   0.9s\n",
      "[CV] n_estimators=500, min_samples_split=2, min_samples_leaf=2, max_features=auto, max_depth=1 \n",
      "[CV]  n_estimators=500, min_samples_split=2, min_samples_leaf=2, max_features=auto, max_depth=1, total=   0.9s\n",
      "[CV] n_estimators=500, min_samples_split=2, min_samples_leaf=2, max_features=auto, max_depth=1 \n",
      "[CV]  n_estimators=500, min_samples_split=2, min_samples_leaf=2, max_features=auto, max_depth=1, total=   0.9s\n",
      "[CV] n_estimators=500, min_samples_split=2, min_samples_leaf=2, max_features=auto, max_depth=1 \n",
      "[CV]  n_estimators=500, min_samples_split=2, min_samples_leaf=2, max_features=auto, max_depth=1, total=   0.9s\n",
      "[CV] n_estimators=500, min_samples_split=2, min_samples_leaf=2, max_features=auto, max_depth=1 \n",
      "[CV]  n_estimators=500, min_samples_split=2, min_samples_leaf=2, max_features=auto, max_depth=1, total=   0.9s\n",
      "[CV] n_estimators=500, min_samples_split=2, min_samples_leaf=2, max_features=auto, max_depth=1 \n",
      "[CV]  n_estimators=500, min_samples_split=2, min_samples_leaf=2, max_features=auto, max_depth=1, total=   0.9s\n",
      "[CV] n_estimators=100, min_samples_split=15, min_samples_leaf=5, max_features=auto, max_depth=5 \n",
      "[CV]  n_estimators=100, min_samples_split=15, min_samples_leaf=5, max_features=auto, max_depth=5, total=   0.3s\n",
      "[CV] n_estimators=100, min_samples_split=15, min_samples_leaf=5, max_features=auto, max_depth=5 \n",
      "[CV]  n_estimators=100, min_samples_split=15, min_samples_leaf=5, max_features=auto, max_depth=5, total=   0.3s\n",
      "[CV] n_estimators=100, min_samples_split=15, min_samples_leaf=5, max_features=auto, max_depth=5 \n",
      "[CV]  n_estimators=100, min_samples_split=15, min_samples_leaf=5, max_features=auto, max_depth=5, total=   0.3s\n",
      "[CV] n_estimators=100, min_samples_split=15, min_samples_leaf=5, max_features=auto, max_depth=5 \n",
      "[CV]  n_estimators=100, min_samples_split=15, min_samples_leaf=5, max_features=auto, max_depth=5, total=   0.3s\n",
      "[CV] n_estimators=100, min_samples_split=15, min_samples_leaf=5, max_features=auto, max_depth=5 \n",
      "[CV]  n_estimators=100, min_samples_split=15, min_samples_leaf=5, max_features=auto, max_depth=5, total=   0.3s\n",
      "[CV] n_estimators=300, min_samples_split=100, min_samples_leaf=10, max_features=auto, max_depth=4 \n",
      "[CV]  n_estimators=300, min_samples_split=100, min_samples_leaf=10, max_features=auto, max_depth=4, total=   0.6s\n",
      "[CV] n_estimators=300, min_samples_split=100, min_samples_leaf=10, max_features=auto, max_depth=4 \n",
      "[CV]  n_estimators=300, min_samples_split=100, min_samples_leaf=10, max_features=auto, max_depth=4, total=   0.6s\n",
      "[CV] n_estimators=300, min_samples_split=100, min_samples_leaf=10, max_features=auto, max_depth=4 \n",
      "[CV]  n_estimators=300, min_samples_split=100, min_samples_leaf=10, max_features=auto, max_depth=4, total=   0.6s\n",
      "[CV] n_estimators=300, min_samples_split=100, min_samples_leaf=10, max_features=auto, max_depth=4 \n",
      "[CV]  n_estimators=300, min_samples_split=100, min_samples_leaf=10, max_features=auto, max_depth=4, total=   0.6s\n",
      "[CV] n_estimators=300, min_samples_split=100, min_samples_leaf=10, max_features=auto, max_depth=4 \n",
      "[CV]  n_estimators=300, min_samples_split=100, min_samples_leaf=10, max_features=auto, max_depth=4, total=   0.6s\n",
      "[CV] n_estimators=100, min_samples_split=100, min_samples_leaf=10, max_features=sqrt, max_depth=5 \n",
      "[CV]  n_estimators=100, min_samples_split=100, min_samples_leaf=10, max_features=sqrt, max_depth=5, total=   0.2s\n",
      "[CV] n_estimators=100, min_samples_split=100, min_samples_leaf=10, max_features=sqrt, max_depth=5 \n",
      "[CV]  n_estimators=100, min_samples_split=100, min_samples_leaf=10, max_features=sqrt, max_depth=5, total=   0.2s\n",
      "[CV] n_estimators=100, min_samples_split=100, min_samples_leaf=10, max_features=sqrt, max_depth=5 \n",
      "[CV]  n_estimators=100, min_samples_split=100, min_samples_leaf=10, max_features=sqrt, max_depth=5, total=   0.2s\n",
      "[CV] n_estimators=100, min_samples_split=100, min_samples_leaf=10, max_features=sqrt, max_depth=5 \n",
      "[CV]  n_estimators=100, min_samples_split=100, min_samples_leaf=10, max_features=sqrt, max_depth=5, total=   0.2s\n",
      "[CV] n_estimators=100, min_samples_split=100, min_samples_leaf=10, max_features=sqrt, max_depth=5 \n",
      "[CV]  n_estimators=100, min_samples_split=100, min_samples_leaf=10, max_features=sqrt, max_depth=5, total=   0.2s\n",
      "[CV] n_estimators=200, min_samples_split=2, min_samples_leaf=2, max_features=sqrt, max_depth=5 \n",
      "[CV]  n_estimators=200, min_samples_split=2, min_samples_leaf=2, max_features=sqrt, max_depth=5, total=   0.4s\n",
      "[CV] n_estimators=200, min_samples_split=2, min_samples_leaf=2, max_features=sqrt, max_depth=5 \n",
      "[CV]  n_estimators=200, min_samples_split=2, min_samples_leaf=2, max_features=sqrt, max_depth=5, total=   0.4s\n",
      "[CV] n_estimators=200, min_samples_split=2, min_samples_leaf=2, max_features=sqrt, max_depth=5 \n",
      "[CV]  n_estimators=200, min_samples_split=2, min_samples_leaf=2, max_features=sqrt, max_depth=5, total=   0.4s\n",
      "[CV] n_estimators=200, min_samples_split=2, min_samples_leaf=2, max_features=sqrt, max_depth=5 \n",
      "[CV]  n_estimators=200, min_samples_split=2, min_samples_leaf=2, max_features=sqrt, max_depth=5, total=   0.4s\n",
      "[CV] n_estimators=200, min_samples_split=2, min_samples_leaf=2, max_features=sqrt, max_depth=5 \n",
      "[CV]  n_estimators=200, min_samples_split=2, min_samples_leaf=2, max_features=sqrt, max_depth=5, total=   0.4s\n",
      "[CV] n_estimators=500, min_samples_split=100, min_samples_leaf=5, max_features=sqrt, max_depth=1 \n",
      "[CV]  n_estimators=500, min_samples_split=100, min_samples_leaf=5, max_features=sqrt, max_depth=1, total=   0.8s\n",
      "[CV] n_estimators=500, min_samples_split=100, min_samples_leaf=5, max_features=sqrt, max_depth=1 \n"
     ]
    },
    {
     "name": "stdout",
     "output_type": "stream",
     "text": [
      "[CV]  n_estimators=500, min_samples_split=100, min_samples_leaf=5, max_features=sqrt, max_depth=1, total=   0.9s\n",
      "[CV] n_estimators=500, min_samples_split=100, min_samples_leaf=5, max_features=sqrt, max_depth=1 \n",
      "[CV]  n_estimators=500, min_samples_split=100, min_samples_leaf=5, max_features=sqrt, max_depth=1, total=   0.9s\n",
      "[CV] n_estimators=500, min_samples_split=100, min_samples_leaf=5, max_features=sqrt, max_depth=1 \n",
      "[CV]  n_estimators=500, min_samples_split=100, min_samples_leaf=5, max_features=sqrt, max_depth=1, total=   0.9s\n",
      "[CV] n_estimators=500, min_samples_split=100, min_samples_leaf=5, max_features=sqrt, max_depth=1 \n",
      "[CV]  n_estimators=500, min_samples_split=100, min_samples_leaf=5, max_features=sqrt, max_depth=1, total=   0.9s\n",
      "[CV] n_estimators=300, min_samples_split=10, min_samples_leaf=1, max_features=sqrt, max_depth=2 \n",
      "[CV]  n_estimators=300, min_samples_split=10, min_samples_leaf=1, max_features=sqrt, max_depth=2, total=   0.5s\n",
      "[CV] n_estimators=300, min_samples_split=10, min_samples_leaf=1, max_features=sqrt, max_depth=2 \n",
      "[CV]  n_estimators=300, min_samples_split=10, min_samples_leaf=1, max_features=sqrt, max_depth=2, total=   0.5s\n",
      "[CV] n_estimators=300, min_samples_split=10, min_samples_leaf=1, max_features=sqrt, max_depth=2 \n",
      "[CV]  n_estimators=300, min_samples_split=10, min_samples_leaf=1, max_features=sqrt, max_depth=2, total=   0.5s\n",
      "[CV] n_estimators=300, min_samples_split=10, min_samples_leaf=1, max_features=sqrt, max_depth=2 \n",
      "[CV]  n_estimators=300, min_samples_split=10, min_samples_leaf=1, max_features=sqrt, max_depth=2, total=   0.5s\n",
      "[CV] n_estimators=300, min_samples_split=10, min_samples_leaf=1, max_features=sqrt, max_depth=2 \n",
      "[CV]  n_estimators=300, min_samples_split=10, min_samples_leaf=1, max_features=sqrt, max_depth=2, total=   0.5s\n",
      "[CV] n_estimators=300, min_samples_split=15, min_samples_leaf=1, max_features=auto, max_depth=2 \n",
      "[CV]  n_estimators=300, min_samples_split=15, min_samples_leaf=1, max_features=auto, max_depth=2, total=   0.6s\n",
      "[CV] n_estimators=300, min_samples_split=15, min_samples_leaf=1, max_features=auto, max_depth=2 \n",
      "[CV]  n_estimators=300, min_samples_split=15, min_samples_leaf=1, max_features=auto, max_depth=2, total=   0.6s\n",
      "[CV] n_estimators=300, min_samples_split=15, min_samples_leaf=1, max_features=auto, max_depth=2 \n",
      "[CV]  n_estimators=300, min_samples_split=15, min_samples_leaf=1, max_features=auto, max_depth=2, total=   0.6s\n",
      "[CV] n_estimators=300, min_samples_split=15, min_samples_leaf=1, max_features=auto, max_depth=2 \n",
      "[CV]  n_estimators=300, min_samples_split=15, min_samples_leaf=1, max_features=auto, max_depth=2, total=   0.6s\n",
      "[CV] n_estimators=300, min_samples_split=15, min_samples_leaf=1, max_features=auto, max_depth=2 \n",
      "[CV]  n_estimators=300, min_samples_split=15, min_samples_leaf=1, max_features=auto, max_depth=2, total=   0.6s\n",
      "[CV] n_estimators=500, min_samples_split=2, min_samples_leaf=1, max_features=auto, max_depth=4 \n",
      "[CV]  n_estimators=500, min_samples_split=2, min_samples_leaf=1, max_features=auto, max_depth=4, total=   1.2s\n",
      "[CV] n_estimators=500, min_samples_split=2, min_samples_leaf=1, max_features=auto, max_depth=4 \n",
      "[CV]  n_estimators=500, min_samples_split=2, min_samples_leaf=1, max_features=auto, max_depth=4, total=   1.2s\n",
      "[CV] n_estimators=500, min_samples_split=2, min_samples_leaf=1, max_features=auto, max_depth=4 \n",
      "[CV]  n_estimators=500, min_samples_split=2, min_samples_leaf=1, max_features=auto, max_depth=4, total=   1.2s\n",
      "[CV] n_estimators=500, min_samples_split=2, min_samples_leaf=1, max_features=auto, max_depth=4 \n",
      "[CV]  n_estimators=500, min_samples_split=2, min_samples_leaf=1, max_features=auto, max_depth=4, total=   1.2s\n",
      "[CV] n_estimators=500, min_samples_split=2, min_samples_leaf=1, max_features=auto, max_depth=4 \n",
      "[CV]  n_estimators=500, min_samples_split=2, min_samples_leaf=1, max_features=auto, max_depth=4, total=   1.2s\n",
      "[CV] n_estimators=500, min_samples_split=15, min_samples_leaf=2, max_features=sqrt, max_depth=3 \n",
      "[CV]  n_estimators=500, min_samples_split=15, min_samples_leaf=2, max_features=sqrt, max_depth=3, total=   0.9s\n",
      "[CV] n_estimators=500, min_samples_split=15, min_samples_leaf=2, max_features=sqrt, max_depth=3 \n",
      "[CV]  n_estimators=500, min_samples_split=15, min_samples_leaf=2, max_features=sqrt, max_depth=3, total=   0.9s\n",
      "[CV] n_estimators=500, min_samples_split=15, min_samples_leaf=2, max_features=sqrt, max_depth=3 \n",
      "[CV]  n_estimators=500, min_samples_split=15, min_samples_leaf=2, max_features=sqrt, max_depth=3, total=   0.9s\n",
      "[CV] n_estimators=500, min_samples_split=15, min_samples_leaf=2, max_features=sqrt, max_depth=3 \n",
      "[CV]  n_estimators=500, min_samples_split=15, min_samples_leaf=2, max_features=sqrt, max_depth=3, total=   0.9s\n",
      "[CV] n_estimators=500, min_samples_split=15, min_samples_leaf=2, max_features=sqrt, max_depth=3 \n",
      "[CV]  n_estimators=500, min_samples_split=15, min_samples_leaf=2, max_features=sqrt, max_depth=3, total=   0.9s\n",
      "[CV] n_estimators=200, min_samples_split=5, min_samples_leaf=5, max_features=auto, max_depth=3 \n",
      "[CV]  n_estimators=200, min_samples_split=5, min_samples_leaf=5, max_features=auto, max_depth=3, total=   0.4s\n",
      "[CV] n_estimators=200, min_samples_split=5, min_samples_leaf=5, max_features=auto, max_depth=3 \n",
      "[CV]  n_estimators=200, min_samples_split=5, min_samples_leaf=5, max_features=auto, max_depth=3, total=   0.5s\n",
      "[CV] n_estimators=200, min_samples_split=5, min_samples_leaf=5, max_features=auto, max_depth=3 \n",
      "[CV]  n_estimators=200, min_samples_split=5, min_samples_leaf=5, max_features=auto, max_depth=3, total=   0.4s\n",
      "[CV] n_estimators=200, min_samples_split=5, min_samples_leaf=5, max_features=auto, max_depth=3 \n",
      "[CV]  n_estimators=200, min_samples_split=5, min_samples_leaf=5, max_features=auto, max_depth=3, total=   0.4s\n",
      "[CV] n_estimators=200, min_samples_split=5, min_samples_leaf=5, max_features=auto, max_depth=3 \n",
      "[CV]  n_estimators=200, min_samples_split=5, min_samples_leaf=5, max_features=auto, max_depth=3, total=   0.4s\n",
      "[CV] n_estimators=500, min_samples_split=2, min_samples_leaf=2, max_features=sqrt, max_depth=4 \n",
      "[CV]  n_estimators=500, min_samples_split=2, min_samples_leaf=2, max_features=sqrt, max_depth=4, total=   0.9s\n",
      "[CV] n_estimators=500, min_samples_split=2, min_samples_leaf=2, max_features=sqrt, max_depth=4 \n",
      "[CV]  n_estimators=500, min_samples_split=2, min_samples_leaf=2, max_features=sqrt, max_depth=4, total=   0.9s\n",
      "[CV] n_estimators=500, min_samples_split=2, min_samples_leaf=2, max_features=sqrt, max_depth=4 \n",
      "[CV]  n_estimators=500, min_samples_split=2, min_samples_leaf=2, max_features=sqrt, max_depth=4, total=   0.9s\n",
      "[CV] n_estimators=500, min_samples_split=2, min_samples_leaf=2, max_features=sqrt, max_depth=4 \n",
      "[CV]  n_estimators=500, min_samples_split=2, min_samples_leaf=2, max_features=sqrt, max_depth=4, total=   0.9s\n",
      "[CV] n_estimators=500, min_samples_split=2, min_samples_leaf=2, max_features=sqrt, max_depth=4 \n",
      "[CV]  n_estimators=500, min_samples_split=2, min_samples_leaf=2, max_features=sqrt, max_depth=4, total=   0.9s\n",
      "[CV] n_estimators=100, min_samples_split=100, min_samples_leaf=2, max_features=sqrt, max_depth=3 \n",
      "[CV]  n_estimators=100, min_samples_split=100, min_samples_leaf=2, max_features=sqrt, max_depth=3, total=   0.2s\n",
      "[CV] n_estimators=100, min_samples_split=100, min_samples_leaf=2, max_features=sqrt, max_depth=3 \n",
      "[CV]  n_estimators=100, min_samples_split=100, min_samples_leaf=2, max_features=sqrt, max_depth=3, total=   0.2s\n",
      "[CV] n_estimators=100, min_samples_split=100, min_samples_leaf=2, max_features=sqrt, max_depth=3 \n",
      "[CV]  n_estimators=100, min_samples_split=100, min_samples_leaf=2, max_features=sqrt, max_depth=3, total=   0.2s\n",
      "[CV] n_estimators=100, min_samples_split=100, min_samples_leaf=2, max_features=sqrt, max_depth=3 \n",
      "[CV]  n_estimators=100, min_samples_split=100, min_samples_leaf=2, max_features=sqrt, max_depth=3, total=   0.2s\n",
      "[CV] n_estimators=100, min_samples_split=100, min_samples_leaf=2, max_features=sqrt, max_depth=3 \n",
      "[CV]  n_estimators=100, min_samples_split=100, min_samples_leaf=2, max_features=sqrt, max_depth=3, total=   0.2s\n",
      "[CV] n_estimators=100, min_samples_split=5, min_samples_leaf=5, max_features=sqrt, max_depth=3 \n",
      "[CV]  n_estimators=100, min_samples_split=5, min_samples_leaf=5, max_features=sqrt, max_depth=3, total=   0.2s\n",
      "[CV] n_estimators=100, min_samples_split=5, min_samples_leaf=5, max_features=sqrt, max_depth=3 \n",
      "[CV]  n_estimators=100, min_samples_split=5, min_samples_leaf=5, max_features=sqrt, max_depth=3, total=   0.2s\n",
      "[CV] n_estimators=100, min_samples_split=5, min_samples_leaf=5, max_features=sqrt, max_depth=3 \n"
     ]
    },
    {
     "name": "stdout",
     "output_type": "stream",
     "text": [
      "[CV]  n_estimators=100, min_samples_split=5, min_samples_leaf=5, max_features=sqrt, max_depth=3, total=   0.2s\n",
      "[CV] n_estimators=100, min_samples_split=5, min_samples_leaf=5, max_features=sqrt, max_depth=3 \n",
      "[CV]  n_estimators=100, min_samples_split=5, min_samples_leaf=5, max_features=sqrt, max_depth=3, total=   0.2s\n",
      "[CV] n_estimators=100, min_samples_split=5, min_samples_leaf=5, max_features=sqrt, max_depth=3 \n",
      "[CV]  n_estimators=100, min_samples_split=5, min_samples_leaf=5, max_features=sqrt, max_depth=3, total=   0.2s\n",
      "[CV] n_estimators=300, min_samples_split=15, min_samples_leaf=5, max_features=auto, max_depth=3 \n",
      "[CV]  n_estimators=300, min_samples_split=15, min_samples_leaf=5, max_features=auto, max_depth=3, total=   0.7s\n",
      "[CV] n_estimators=300, min_samples_split=15, min_samples_leaf=5, max_features=auto, max_depth=3 \n",
      "[CV]  n_estimators=300, min_samples_split=15, min_samples_leaf=5, max_features=auto, max_depth=3, total=   0.7s\n",
      "[CV] n_estimators=300, min_samples_split=15, min_samples_leaf=5, max_features=auto, max_depth=3 \n",
      "[CV]  n_estimators=300, min_samples_split=15, min_samples_leaf=5, max_features=auto, max_depth=3, total=   0.7s\n",
      "[CV] n_estimators=300, min_samples_split=15, min_samples_leaf=5, max_features=auto, max_depth=3 \n",
      "[CV]  n_estimators=300, min_samples_split=15, min_samples_leaf=5, max_features=auto, max_depth=3, total=   0.6s\n",
      "[CV] n_estimators=300, min_samples_split=15, min_samples_leaf=5, max_features=auto, max_depth=3 \n",
      "[CV]  n_estimators=300, min_samples_split=15, min_samples_leaf=5, max_features=auto, max_depth=3, total=   0.7s\n",
      "[CV] n_estimators=200, min_samples_split=5, min_samples_leaf=2, max_features=sqrt, max_depth=2 \n",
      "[CV]  n_estimators=200, min_samples_split=5, min_samples_leaf=2, max_features=sqrt, max_depth=2, total=   0.4s\n",
      "[CV] n_estimators=200, min_samples_split=5, min_samples_leaf=2, max_features=sqrt, max_depth=2 \n",
      "[CV]  n_estimators=200, min_samples_split=5, min_samples_leaf=2, max_features=sqrt, max_depth=2, total=   0.4s\n",
      "[CV] n_estimators=200, min_samples_split=5, min_samples_leaf=2, max_features=sqrt, max_depth=2 \n",
      "[CV]  n_estimators=200, min_samples_split=5, min_samples_leaf=2, max_features=sqrt, max_depth=2, total=   0.4s\n",
      "[CV] n_estimators=200, min_samples_split=5, min_samples_leaf=2, max_features=sqrt, max_depth=2 \n",
      "[CV]  n_estimators=200, min_samples_split=5, min_samples_leaf=2, max_features=sqrt, max_depth=2, total=   0.4s\n",
      "[CV] n_estimators=200, min_samples_split=5, min_samples_leaf=2, max_features=sqrt, max_depth=2 \n",
      "[CV]  n_estimators=200, min_samples_split=5, min_samples_leaf=2, max_features=sqrt, max_depth=2, total=   0.4s\n",
      "[CV] n_estimators=200, min_samples_split=10, min_samples_leaf=2, max_features=sqrt, max_depth=1 \n",
      "[CV]  n_estimators=200, min_samples_split=10, min_samples_leaf=2, max_features=sqrt, max_depth=1, total=   0.3s\n",
      "[CV] n_estimators=200, min_samples_split=10, min_samples_leaf=2, max_features=sqrt, max_depth=1 \n",
      "[CV]  n_estimators=200, min_samples_split=10, min_samples_leaf=2, max_features=sqrt, max_depth=1, total=   0.4s\n",
      "[CV] n_estimators=200, min_samples_split=10, min_samples_leaf=2, max_features=sqrt, max_depth=1 \n",
      "[CV]  n_estimators=200, min_samples_split=10, min_samples_leaf=2, max_features=sqrt, max_depth=1, total=   0.4s\n",
      "[CV] n_estimators=200, min_samples_split=10, min_samples_leaf=2, max_features=sqrt, max_depth=1 \n",
      "[CV]  n_estimators=200, min_samples_split=10, min_samples_leaf=2, max_features=sqrt, max_depth=1, total=   0.3s\n",
      "[CV] n_estimators=200, min_samples_split=10, min_samples_leaf=2, max_features=sqrt, max_depth=1 \n",
      "[CV]  n_estimators=200, min_samples_split=10, min_samples_leaf=2, max_features=sqrt, max_depth=1, total=   0.4s\n",
      "[CV] n_estimators=300, min_samples_split=5, min_samples_leaf=2, max_features=auto, max_depth=5 \n",
      "[CV]  n_estimators=300, min_samples_split=5, min_samples_leaf=2, max_features=auto, max_depth=5, total=   0.8s\n",
      "[CV] n_estimators=300, min_samples_split=5, min_samples_leaf=2, max_features=auto, max_depth=5 \n",
      "[CV]  n_estimators=300, min_samples_split=5, min_samples_leaf=2, max_features=auto, max_depth=5, total=   0.8s\n",
      "[CV] n_estimators=300, min_samples_split=5, min_samples_leaf=2, max_features=auto, max_depth=5 \n",
      "[CV]  n_estimators=300, min_samples_split=5, min_samples_leaf=2, max_features=auto, max_depth=5, total=   0.8s\n",
      "[CV] n_estimators=300, min_samples_split=5, min_samples_leaf=2, max_features=auto, max_depth=5 \n",
      "[CV]  n_estimators=300, min_samples_split=5, min_samples_leaf=2, max_features=auto, max_depth=5, total=   0.8s\n",
      "[CV] n_estimators=300, min_samples_split=5, min_samples_leaf=2, max_features=auto, max_depth=5 \n",
      "[CV]  n_estimators=300, min_samples_split=5, min_samples_leaf=2, max_features=auto, max_depth=5, total=   0.8s\n",
      "[CV] n_estimators=300, min_samples_split=15, min_samples_leaf=5, max_features=sqrt, max_depth=2 \n",
      "[CV]  n_estimators=300, min_samples_split=15, min_samples_leaf=5, max_features=sqrt, max_depth=2, total=   0.5s\n",
      "[CV] n_estimators=300, min_samples_split=15, min_samples_leaf=5, max_features=sqrt, max_depth=2 \n",
      "[CV]  n_estimators=300, min_samples_split=15, min_samples_leaf=5, max_features=sqrt, max_depth=2, total=   0.5s\n",
      "[CV] n_estimators=300, min_samples_split=15, min_samples_leaf=5, max_features=sqrt, max_depth=2 \n",
      "[CV]  n_estimators=300, min_samples_split=15, min_samples_leaf=5, max_features=sqrt, max_depth=2, total=   0.5s\n",
      "[CV] n_estimators=300, min_samples_split=15, min_samples_leaf=5, max_features=sqrt, max_depth=2 \n",
      "[CV]  n_estimators=300, min_samples_split=15, min_samples_leaf=5, max_features=sqrt, max_depth=2, total=   0.7s\n",
      "[CV] n_estimators=300, min_samples_split=15, min_samples_leaf=5, max_features=sqrt, max_depth=2 \n",
      "[CV]  n_estimators=300, min_samples_split=15, min_samples_leaf=5, max_features=sqrt, max_depth=2, total=   0.5s\n",
      "[CV] n_estimators=100, min_samples_split=100, min_samples_leaf=1, max_features=auto, max_depth=4 \n",
      "[CV]  n_estimators=100, min_samples_split=100, min_samples_leaf=1, max_features=auto, max_depth=4, total=   0.2s\n",
      "[CV] n_estimators=100, min_samples_split=100, min_samples_leaf=1, max_features=auto, max_depth=4 \n",
      "[CV]  n_estimators=100, min_samples_split=100, min_samples_leaf=1, max_features=auto, max_depth=4, total=   0.2s\n",
      "[CV] n_estimators=100, min_samples_split=100, min_samples_leaf=1, max_features=auto, max_depth=4 \n",
      "[CV]  n_estimators=100, min_samples_split=100, min_samples_leaf=1, max_features=auto, max_depth=4, total=   0.2s\n",
      "[CV] n_estimators=100, min_samples_split=100, min_samples_leaf=1, max_features=auto, max_depth=4 \n",
      "[CV]  n_estimators=100, min_samples_split=100, min_samples_leaf=1, max_features=auto, max_depth=4, total=   0.2s\n",
      "[CV] n_estimators=100, min_samples_split=100, min_samples_leaf=1, max_features=auto, max_depth=4 \n",
      "[CV]  n_estimators=100, min_samples_split=100, min_samples_leaf=1, max_features=auto, max_depth=4, total=   0.2s\n",
      "[CV] n_estimators=100, min_samples_split=10, min_samples_leaf=5, max_features=auto, max_depth=4 \n",
      "[CV]  n_estimators=100, min_samples_split=10, min_samples_leaf=5, max_features=auto, max_depth=4, total=   0.2s\n",
      "[CV] n_estimators=100, min_samples_split=10, min_samples_leaf=5, max_features=auto, max_depth=4 \n",
      "[CV]  n_estimators=100, min_samples_split=10, min_samples_leaf=5, max_features=auto, max_depth=4, total=   0.2s\n",
      "[CV] n_estimators=100, min_samples_split=10, min_samples_leaf=5, max_features=auto, max_depth=4 \n",
      "[CV]  n_estimators=100, min_samples_split=10, min_samples_leaf=5, max_features=auto, max_depth=4, total=   0.2s\n",
      "[CV] n_estimators=100, min_samples_split=10, min_samples_leaf=5, max_features=auto, max_depth=4 \n",
      "[CV]  n_estimators=100, min_samples_split=10, min_samples_leaf=5, max_features=auto, max_depth=4, total=   0.2s\n",
      "[CV] n_estimators=100, min_samples_split=10, min_samples_leaf=5, max_features=auto, max_depth=4 \n",
      "[CV]  n_estimators=100, min_samples_split=10, min_samples_leaf=5, max_features=auto, max_depth=4, total=   0.2s\n",
      "[CV] n_estimators=300, min_samples_split=5, min_samples_leaf=5, max_features=sqrt, max_depth=4 \n",
      "[CV]  n_estimators=300, min_samples_split=5, min_samples_leaf=5, max_features=sqrt, max_depth=4, total=   0.6s\n",
      "[CV] n_estimators=300, min_samples_split=5, min_samples_leaf=5, max_features=sqrt, max_depth=4 \n",
      "[CV]  n_estimators=300, min_samples_split=5, min_samples_leaf=5, max_features=sqrt, max_depth=4, total=   0.6s\n",
      "[CV] n_estimators=300, min_samples_split=5, min_samples_leaf=5, max_features=sqrt, max_depth=4 \n"
     ]
    },
    {
     "name": "stdout",
     "output_type": "stream",
     "text": [
      "[CV]  n_estimators=300, min_samples_split=5, min_samples_leaf=5, max_features=sqrt, max_depth=4, total=   0.6s\n",
      "[CV] n_estimators=300, min_samples_split=5, min_samples_leaf=5, max_features=sqrt, max_depth=4 \n",
      "[CV]  n_estimators=300, min_samples_split=5, min_samples_leaf=5, max_features=sqrt, max_depth=4, total=   0.6s\n",
      "[CV] n_estimators=300, min_samples_split=5, min_samples_leaf=5, max_features=sqrt, max_depth=4 \n",
      "[CV]  n_estimators=300, min_samples_split=5, min_samples_leaf=5, max_features=sqrt, max_depth=4, total=   0.6s\n",
      "[CV] n_estimators=200, min_samples_split=15, min_samples_leaf=1, max_features=auto, max_depth=4 \n",
      "[CV]  n_estimators=200, min_samples_split=15, min_samples_leaf=1, max_features=auto, max_depth=4, total=   0.5s\n",
      "[CV] n_estimators=200, min_samples_split=15, min_samples_leaf=1, max_features=auto, max_depth=4 \n",
      "[CV]  n_estimators=200, min_samples_split=15, min_samples_leaf=1, max_features=auto, max_depth=4, total=   0.5s\n",
      "[CV] n_estimators=200, min_samples_split=15, min_samples_leaf=1, max_features=auto, max_depth=4 \n",
      "[CV]  n_estimators=200, min_samples_split=15, min_samples_leaf=1, max_features=auto, max_depth=4, total=   0.5s\n",
      "[CV] n_estimators=200, min_samples_split=15, min_samples_leaf=1, max_features=auto, max_depth=4 \n",
      "[CV]  n_estimators=200, min_samples_split=15, min_samples_leaf=1, max_features=auto, max_depth=4, total=   0.5s\n",
      "[CV] n_estimators=200, min_samples_split=15, min_samples_leaf=1, max_features=auto, max_depth=4 \n",
      "[CV]  n_estimators=200, min_samples_split=15, min_samples_leaf=1, max_features=auto, max_depth=4, total=   0.5s\n",
      "[CV] n_estimators=300, min_samples_split=100, min_samples_leaf=2, max_features=auto, max_depth=2 \n",
      "[CV]  n_estimators=300, min_samples_split=100, min_samples_leaf=2, max_features=auto, max_depth=2, total=   0.6s\n",
      "[CV] n_estimators=300, min_samples_split=100, min_samples_leaf=2, max_features=auto, max_depth=2 \n",
      "[CV]  n_estimators=300, min_samples_split=100, min_samples_leaf=2, max_features=auto, max_depth=2, total=   0.6s\n",
      "[CV] n_estimators=300, min_samples_split=100, min_samples_leaf=2, max_features=auto, max_depth=2 \n",
      "[CV]  n_estimators=300, min_samples_split=100, min_samples_leaf=2, max_features=auto, max_depth=2, total=   0.6s\n",
      "[CV] n_estimators=300, min_samples_split=100, min_samples_leaf=2, max_features=auto, max_depth=2 \n",
      "[CV]  n_estimators=300, min_samples_split=100, min_samples_leaf=2, max_features=auto, max_depth=2, total=   0.6s\n",
      "[CV] n_estimators=300, min_samples_split=100, min_samples_leaf=2, max_features=auto, max_depth=2 \n",
      "[CV]  n_estimators=300, min_samples_split=100, min_samples_leaf=2, max_features=auto, max_depth=2, total=   0.6s\n",
      "[CV] n_estimators=100, min_samples_split=10, min_samples_leaf=1, max_features=auto, max_depth=2 \n",
      "[CV]  n_estimators=100, min_samples_split=10, min_samples_leaf=1, max_features=auto, max_depth=2, total=   0.2s\n",
      "[CV] n_estimators=100, min_samples_split=10, min_samples_leaf=1, max_features=auto, max_depth=2 \n",
      "[CV]  n_estimators=100, min_samples_split=10, min_samples_leaf=1, max_features=auto, max_depth=2, total=   0.2s\n",
      "[CV] n_estimators=100, min_samples_split=10, min_samples_leaf=1, max_features=auto, max_depth=2 \n",
      "[CV]  n_estimators=100, min_samples_split=10, min_samples_leaf=1, max_features=auto, max_depth=2, total=   0.2s\n",
      "[CV] n_estimators=100, min_samples_split=10, min_samples_leaf=1, max_features=auto, max_depth=2 \n",
      "[CV]  n_estimators=100, min_samples_split=10, min_samples_leaf=1, max_features=auto, max_depth=2, total=   0.2s\n",
      "[CV] n_estimators=100, min_samples_split=10, min_samples_leaf=1, max_features=auto, max_depth=2 \n",
      "[CV]  n_estimators=100, min_samples_split=10, min_samples_leaf=1, max_features=auto, max_depth=2, total=   0.2s\n",
      "[CV] n_estimators=200, min_samples_split=2, min_samples_leaf=1, max_features=auto, max_depth=3 \n",
      "[CV]  n_estimators=200, min_samples_split=2, min_samples_leaf=1, max_features=auto, max_depth=3, total=   0.4s\n",
      "[CV] n_estimators=200, min_samples_split=2, min_samples_leaf=1, max_features=auto, max_depth=3 \n",
      "[CV]  n_estimators=200, min_samples_split=2, min_samples_leaf=1, max_features=auto, max_depth=3, total=   0.4s\n",
      "[CV] n_estimators=200, min_samples_split=2, min_samples_leaf=1, max_features=auto, max_depth=3 \n",
      "[CV]  n_estimators=200, min_samples_split=2, min_samples_leaf=1, max_features=auto, max_depth=3, total=   0.4s\n",
      "[CV] n_estimators=200, min_samples_split=2, min_samples_leaf=1, max_features=auto, max_depth=3 \n",
      "[CV]  n_estimators=200, min_samples_split=2, min_samples_leaf=1, max_features=auto, max_depth=3, total=   0.4s\n",
      "[CV] n_estimators=200, min_samples_split=2, min_samples_leaf=1, max_features=auto, max_depth=3 \n",
      "[CV]  n_estimators=200, min_samples_split=2, min_samples_leaf=1, max_features=auto, max_depth=3, total=   0.4s\n",
      "[CV] n_estimators=500, min_samples_split=2, min_samples_leaf=1, max_features=sqrt, max_depth=5 \n",
      "[CV]  n_estimators=500, min_samples_split=2, min_samples_leaf=1, max_features=sqrt, max_depth=5, total=   1.0s\n",
      "[CV] n_estimators=500, min_samples_split=2, min_samples_leaf=1, max_features=sqrt, max_depth=5 \n",
      "[CV]  n_estimators=500, min_samples_split=2, min_samples_leaf=1, max_features=sqrt, max_depth=5, total=   1.0s\n",
      "[CV] n_estimators=500, min_samples_split=2, min_samples_leaf=1, max_features=sqrt, max_depth=5 \n",
      "[CV]  n_estimators=500, min_samples_split=2, min_samples_leaf=1, max_features=sqrt, max_depth=5, total=   1.0s\n",
      "[CV] n_estimators=500, min_samples_split=2, min_samples_leaf=1, max_features=sqrt, max_depth=5 \n",
      "[CV]  n_estimators=500, min_samples_split=2, min_samples_leaf=1, max_features=sqrt, max_depth=5, total=   1.0s\n",
      "[CV] n_estimators=500, min_samples_split=2, min_samples_leaf=1, max_features=sqrt, max_depth=5 \n",
      "[CV]  n_estimators=500, min_samples_split=2, min_samples_leaf=1, max_features=sqrt, max_depth=5, total=   1.0s\n",
      "[CV] n_estimators=500, min_samples_split=15, min_samples_leaf=1, max_features=auto, max_depth=5 \n",
      "[CV]  n_estimators=500, min_samples_split=15, min_samples_leaf=1, max_features=auto, max_depth=5, total=   1.2s\n",
      "[CV] n_estimators=500, min_samples_split=15, min_samples_leaf=1, max_features=auto, max_depth=5 \n",
      "[CV]  n_estimators=500, min_samples_split=15, min_samples_leaf=1, max_features=auto, max_depth=5, total=   1.3s\n",
      "[CV] n_estimators=500, min_samples_split=15, min_samples_leaf=1, max_features=auto, max_depth=5 \n",
      "[CV]  n_estimators=500, min_samples_split=15, min_samples_leaf=1, max_features=auto, max_depth=5, total=   1.3s\n",
      "[CV] n_estimators=500, min_samples_split=15, min_samples_leaf=1, max_features=auto, max_depth=5 \n",
      "[CV]  n_estimators=500, min_samples_split=15, min_samples_leaf=1, max_features=auto, max_depth=5, total=   1.2s\n",
      "[CV] n_estimators=500, min_samples_split=15, min_samples_leaf=1, max_features=auto, max_depth=5 \n",
      "[CV]  n_estimators=500, min_samples_split=15, min_samples_leaf=1, max_features=auto, max_depth=5, total=   1.3s\n",
      "[CV] n_estimators=300, min_samples_split=5, min_samples_leaf=10, max_features=sqrt, max_depth=2 \n",
      "[CV]  n_estimators=300, min_samples_split=5, min_samples_leaf=10, max_features=sqrt, max_depth=2, total=   0.5s\n",
      "[CV] n_estimators=300, min_samples_split=5, min_samples_leaf=10, max_features=sqrt, max_depth=2 \n",
      "[CV]  n_estimators=300, min_samples_split=5, min_samples_leaf=10, max_features=sqrt, max_depth=2, total=   0.5s\n",
      "[CV] n_estimators=300, min_samples_split=5, min_samples_leaf=10, max_features=sqrt, max_depth=2 \n",
      "[CV]  n_estimators=300, min_samples_split=5, min_samples_leaf=10, max_features=sqrt, max_depth=2, total=   0.5s\n",
      "[CV] n_estimators=300, min_samples_split=5, min_samples_leaf=10, max_features=sqrt, max_depth=2 \n",
      "[CV]  n_estimators=300, min_samples_split=5, min_samples_leaf=10, max_features=sqrt, max_depth=2, total=   0.5s\n",
      "[CV] n_estimators=300, min_samples_split=5, min_samples_leaf=10, max_features=sqrt, max_depth=2 \n",
      "[CV]  n_estimators=300, min_samples_split=5, min_samples_leaf=10, max_features=sqrt, max_depth=2, total=   0.5s\n",
      "[CV] n_estimators=500, min_samples_split=10, min_samples_leaf=10, max_features=auto, max_depth=2 \n",
      "[CV]  n_estimators=500, min_samples_split=10, min_samples_leaf=10, max_features=auto, max_depth=2, total=   1.0s\n",
      "[CV] n_estimators=500, min_samples_split=10, min_samples_leaf=10, max_features=auto, max_depth=2 \n",
      "[CV]  n_estimators=500, min_samples_split=10, min_samples_leaf=10, max_features=auto, max_depth=2, total=   1.0s\n",
      "[CV] n_estimators=500, min_samples_split=10, min_samples_leaf=10, max_features=auto, max_depth=2 \n"
     ]
    },
    {
     "name": "stdout",
     "output_type": "stream",
     "text": [
      "[CV]  n_estimators=500, min_samples_split=10, min_samples_leaf=10, max_features=auto, max_depth=2, total=   1.0s\n",
      "[CV] n_estimators=500, min_samples_split=10, min_samples_leaf=10, max_features=auto, max_depth=2 \n",
      "[CV]  n_estimators=500, min_samples_split=10, min_samples_leaf=10, max_features=auto, max_depth=2, total=   1.0s\n",
      "[CV] n_estimators=500, min_samples_split=10, min_samples_leaf=10, max_features=auto, max_depth=2 \n",
      "[CV]  n_estimators=500, min_samples_split=10, min_samples_leaf=10, max_features=auto, max_depth=2, total=   1.0s\n",
      "[CV] n_estimators=300, min_samples_split=2, min_samples_leaf=2, max_features=sqrt, max_depth=4 \n",
      "[CV]  n_estimators=300, min_samples_split=2, min_samples_leaf=2, max_features=sqrt, max_depth=4, total=   0.6s\n",
      "[CV] n_estimators=300, min_samples_split=2, min_samples_leaf=2, max_features=sqrt, max_depth=4 \n",
      "[CV]  n_estimators=300, min_samples_split=2, min_samples_leaf=2, max_features=sqrt, max_depth=4, total=   0.6s\n",
      "[CV] n_estimators=300, min_samples_split=2, min_samples_leaf=2, max_features=sqrt, max_depth=4 \n",
      "[CV]  n_estimators=300, min_samples_split=2, min_samples_leaf=2, max_features=sqrt, max_depth=4, total=   0.6s\n",
      "[CV] n_estimators=300, min_samples_split=2, min_samples_leaf=2, max_features=sqrt, max_depth=4 \n",
      "[CV]  n_estimators=300, min_samples_split=2, min_samples_leaf=2, max_features=sqrt, max_depth=4, total=   0.6s\n",
      "[CV] n_estimators=300, min_samples_split=2, min_samples_leaf=2, max_features=sqrt, max_depth=4 \n",
      "[CV]  n_estimators=300, min_samples_split=2, min_samples_leaf=2, max_features=sqrt, max_depth=4, total=   0.6s\n",
      "[CV] n_estimators=200, min_samples_split=10, min_samples_leaf=5, max_features=auto, max_depth=1 \n",
      "[CV]  n_estimators=200, min_samples_split=10, min_samples_leaf=5, max_features=auto, max_depth=1, total=   0.4s\n",
      "[CV] n_estimators=200, min_samples_split=10, min_samples_leaf=5, max_features=auto, max_depth=1 \n",
      "[CV]  n_estimators=200, min_samples_split=10, min_samples_leaf=5, max_features=auto, max_depth=1, total=   0.4s\n",
      "[CV] n_estimators=200, min_samples_split=10, min_samples_leaf=5, max_features=auto, max_depth=1 \n",
      "[CV]  n_estimators=200, min_samples_split=10, min_samples_leaf=5, max_features=auto, max_depth=1, total=   0.4s\n",
      "[CV] n_estimators=200, min_samples_split=10, min_samples_leaf=5, max_features=auto, max_depth=1 \n",
      "[CV]  n_estimators=200, min_samples_split=10, min_samples_leaf=5, max_features=auto, max_depth=1, total=   0.4s\n",
      "[CV] n_estimators=200, min_samples_split=10, min_samples_leaf=5, max_features=auto, max_depth=1 \n",
      "[CV]  n_estimators=200, min_samples_split=10, min_samples_leaf=5, max_features=auto, max_depth=1, total=   0.4s\n",
      "[CV] n_estimators=500, min_samples_split=5, min_samples_leaf=10, max_features=sqrt, max_depth=5 \n",
      "[CV]  n_estimators=500, min_samples_split=5, min_samples_leaf=10, max_features=sqrt, max_depth=5, total=   1.0s\n",
      "[CV] n_estimators=500, min_samples_split=5, min_samples_leaf=10, max_features=sqrt, max_depth=5 \n",
      "[CV]  n_estimators=500, min_samples_split=5, min_samples_leaf=10, max_features=sqrt, max_depth=5, total=   0.9s\n",
      "[CV] n_estimators=500, min_samples_split=5, min_samples_leaf=10, max_features=sqrt, max_depth=5 \n",
      "[CV]  n_estimators=500, min_samples_split=5, min_samples_leaf=10, max_features=sqrt, max_depth=5, total=   0.9s\n",
      "[CV] n_estimators=500, min_samples_split=5, min_samples_leaf=10, max_features=sqrt, max_depth=5 \n",
      "[CV]  n_estimators=500, min_samples_split=5, min_samples_leaf=10, max_features=sqrt, max_depth=5, total=   0.9s\n",
      "[CV] n_estimators=500, min_samples_split=5, min_samples_leaf=10, max_features=sqrt, max_depth=5 \n",
      "[CV]  n_estimators=500, min_samples_split=5, min_samples_leaf=10, max_features=sqrt, max_depth=5, total=   0.9s\n",
      "[CV] n_estimators=200, min_samples_split=100, min_samples_leaf=2, max_features=auto, max_depth=4 \n",
      "[CV]  n_estimators=200, min_samples_split=100, min_samples_leaf=2, max_features=auto, max_depth=4, total=   0.4s\n",
      "[CV] n_estimators=200, min_samples_split=100, min_samples_leaf=2, max_features=auto, max_depth=4 \n",
      "[CV]  n_estimators=200, min_samples_split=100, min_samples_leaf=2, max_features=auto, max_depth=4, total=   0.4s\n",
      "[CV] n_estimators=200, min_samples_split=100, min_samples_leaf=2, max_features=auto, max_depth=4 \n",
      "[CV]  n_estimators=200, min_samples_split=100, min_samples_leaf=2, max_features=auto, max_depth=4, total=   0.4s\n",
      "[CV] n_estimators=200, min_samples_split=100, min_samples_leaf=2, max_features=auto, max_depth=4 \n",
      "[CV]  n_estimators=200, min_samples_split=100, min_samples_leaf=2, max_features=auto, max_depth=4, total=   0.4s\n",
      "[CV] n_estimators=200, min_samples_split=100, min_samples_leaf=2, max_features=auto, max_depth=4 \n",
      "[CV]  n_estimators=200, min_samples_split=100, min_samples_leaf=2, max_features=auto, max_depth=4, total=   0.4s\n",
      "[CV] n_estimators=300, min_samples_split=5, min_samples_leaf=1, max_features=sqrt, max_depth=1 \n",
      "[CV]  n_estimators=300, min_samples_split=5, min_samples_leaf=1, max_features=sqrt, max_depth=1, total=   0.5s\n",
      "[CV] n_estimators=300, min_samples_split=5, min_samples_leaf=1, max_features=sqrt, max_depth=1 \n",
      "[CV]  n_estimators=300, min_samples_split=5, min_samples_leaf=1, max_features=sqrt, max_depth=1, total=   0.5s\n",
      "[CV] n_estimators=300, min_samples_split=5, min_samples_leaf=1, max_features=sqrt, max_depth=1 \n",
      "[CV]  n_estimators=300, min_samples_split=5, min_samples_leaf=1, max_features=sqrt, max_depth=1, total=   0.5s\n",
      "[CV] n_estimators=300, min_samples_split=5, min_samples_leaf=1, max_features=sqrt, max_depth=1 \n",
      "[CV]  n_estimators=300, min_samples_split=5, min_samples_leaf=1, max_features=sqrt, max_depth=1, total=   0.5s\n",
      "[CV] n_estimators=300, min_samples_split=5, min_samples_leaf=1, max_features=sqrt, max_depth=1 \n",
      "[CV]  n_estimators=300, min_samples_split=5, min_samples_leaf=1, max_features=sqrt, max_depth=1, total=   0.5s\n",
      "[CV] n_estimators=200, min_samples_split=5, min_samples_leaf=10, max_features=auto, max_depth=3 \n",
      "[CV]  n_estimators=200, min_samples_split=5, min_samples_leaf=10, max_features=auto, max_depth=3, total=   0.5s\n",
      "[CV] n_estimators=200, min_samples_split=5, min_samples_leaf=10, max_features=auto, max_depth=3 \n",
      "[CV]  n_estimators=200, min_samples_split=5, min_samples_leaf=10, max_features=auto, max_depth=3, total=   0.4s\n",
      "[CV] n_estimators=200, min_samples_split=5, min_samples_leaf=10, max_features=auto, max_depth=3 \n",
      "[CV]  n_estimators=200, min_samples_split=5, min_samples_leaf=10, max_features=auto, max_depth=3, total=   0.4s\n",
      "[CV] n_estimators=200, min_samples_split=5, min_samples_leaf=10, max_features=auto, max_depth=3 \n",
      "[CV]  n_estimators=200, min_samples_split=5, min_samples_leaf=10, max_features=auto, max_depth=3, total=   0.4s\n",
      "[CV] n_estimators=200, min_samples_split=5, min_samples_leaf=10, max_features=auto, max_depth=3 \n",
      "[CV]  n_estimators=200, min_samples_split=5, min_samples_leaf=10, max_features=auto, max_depth=3, total=   0.4s\n",
      "[CV] n_estimators=100, min_samples_split=15, min_samples_leaf=2, max_features=auto, max_depth=2 \n",
      "[CV]  n_estimators=100, min_samples_split=15, min_samples_leaf=2, max_features=auto, max_depth=2, total=   0.2s\n",
      "[CV] n_estimators=100, min_samples_split=15, min_samples_leaf=2, max_features=auto, max_depth=2 \n",
      "[CV]  n_estimators=100, min_samples_split=15, min_samples_leaf=2, max_features=auto, max_depth=2, total=   0.2s\n",
      "[CV] n_estimators=100, min_samples_split=15, min_samples_leaf=2, max_features=auto, max_depth=2 \n",
      "[CV]  n_estimators=100, min_samples_split=15, min_samples_leaf=2, max_features=auto, max_depth=2, total=   0.2s\n",
      "[CV] n_estimators=100, min_samples_split=15, min_samples_leaf=2, max_features=auto, max_depth=2 \n",
      "[CV]  n_estimators=100, min_samples_split=15, min_samples_leaf=2, max_features=auto, max_depth=2, total=   0.2s\n",
      "[CV] n_estimators=100, min_samples_split=15, min_samples_leaf=2, max_features=auto, max_depth=2 \n",
      "[CV]  n_estimators=100, min_samples_split=15, min_samples_leaf=2, max_features=auto, max_depth=2, total=   0.2s\n",
      "[CV] n_estimators=500, min_samples_split=15, min_samples_leaf=10, max_features=sqrt, max_depth=5 \n",
      "[CV]  n_estimators=500, min_samples_split=15, min_samples_leaf=10, max_features=sqrt, max_depth=5, total=   0.9s\n",
      "[CV] n_estimators=500, min_samples_split=15, min_samples_leaf=10, max_features=sqrt, max_depth=5 \n",
      "[CV]  n_estimators=500, min_samples_split=15, min_samples_leaf=10, max_features=sqrt, max_depth=5, total=   1.0s\n",
      "[CV] n_estimators=500, min_samples_split=15, min_samples_leaf=10, max_features=sqrt, max_depth=5 \n"
     ]
    },
    {
     "name": "stdout",
     "output_type": "stream",
     "text": [
      "[CV]  n_estimators=500, min_samples_split=15, min_samples_leaf=10, max_features=sqrt, max_depth=5, total=   1.0s\n",
      "[CV] n_estimators=500, min_samples_split=15, min_samples_leaf=10, max_features=sqrt, max_depth=5 \n",
      "[CV]  n_estimators=500, min_samples_split=15, min_samples_leaf=10, max_features=sqrt, max_depth=5, total=   1.0s\n",
      "[CV] n_estimators=500, min_samples_split=15, min_samples_leaf=10, max_features=sqrt, max_depth=5 \n",
      "[CV]  n_estimators=500, min_samples_split=15, min_samples_leaf=10, max_features=sqrt, max_depth=5, total=   1.0s\n",
      "[CV] n_estimators=200, min_samples_split=15, min_samples_leaf=2, max_features=auto, max_depth=1 \n",
      "[CV]  n_estimators=200, min_samples_split=15, min_samples_leaf=2, max_features=auto, max_depth=1, total=   0.4s\n",
      "[CV] n_estimators=200, min_samples_split=15, min_samples_leaf=2, max_features=auto, max_depth=1 \n",
      "[CV]  n_estimators=200, min_samples_split=15, min_samples_leaf=2, max_features=auto, max_depth=1, total=   0.4s\n",
      "[CV] n_estimators=200, min_samples_split=15, min_samples_leaf=2, max_features=auto, max_depth=1 \n",
      "[CV]  n_estimators=200, min_samples_split=15, min_samples_leaf=2, max_features=auto, max_depth=1, total=   0.4s\n",
      "[CV] n_estimators=200, min_samples_split=15, min_samples_leaf=2, max_features=auto, max_depth=1 \n",
      "[CV]  n_estimators=200, min_samples_split=15, min_samples_leaf=2, max_features=auto, max_depth=1, total=   0.4s\n",
      "[CV] n_estimators=200, min_samples_split=15, min_samples_leaf=2, max_features=auto, max_depth=1 \n",
      "[CV]  n_estimators=200, min_samples_split=15, min_samples_leaf=2, max_features=auto, max_depth=1, total=   0.4s\n",
      "[CV] n_estimators=500, min_samples_split=10, min_samples_leaf=2, max_features=auto, max_depth=1 \n",
      "[CV]  n_estimators=500, min_samples_split=10, min_samples_leaf=2, max_features=auto, max_depth=1, total=   0.9s\n",
      "[CV] n_estimators=500, min_samples_split=10, min_samples_leaf=2, max_features=auto, max_depth=1 \n",
      "[CV]  n_estimators=500, min_samples_split=10, min_samples_leaf=2, max_features=auto, max_depth=1, total=   0.9s\n",
      "[CV] n_estimators=500, min_samples_split=10, min_samples_leaf=2, max_features=auto, max_depth=1 \n",
      "[CV]  n_estimators=500, min_samples_split=10, min_samples_leaf=2, max_features=auto, max_depth=1, total=   0.9s\n",
      "[CV] n_estimators=500, min_samples_split=10, min_samples_leaf=2, max_features=auto, max_depth=1 \n",
      "[CV]  n_estimators=500, min_samples_split=10, min_samples_leaf=2, max_features=auto, max_depth=1, total=   0.9s\n",
      "[CV] n_estimators=500, min_samples_split=10, min_samples_leaf=2, max_features=auto, max_depth=1 \n",
      "[CV]  n_estimators=500, min_samples_split=10, min_samples_leaf=2, max_features=auto, max_depth=1, total=   0.9s\n",
      "[CV] n_estimators=500, min_samples_split=100, min_samples_leaf=2, max_features=auto, max_depth=2 \n",
      "[CV]  n_estimators=500, min_samples_split=100, min_samples_leaf=2, max_features=auto, max_depth=2, total=   1.0s\n",
      "[CV] n_estimators=500, min_samples_split=100, min_samples_leaf=2, max_features=auto, max_depth=2 \n",
      "[CV]  n_estimators=500, min_samples_split=100, min_samples_leaf=2, max_features=auto, max_depth=2, total=   1.0s\n",
      "[CV] n_estimators=500, min_samples_split=100, min_samples_leaf=2, max_features=auto, max_depth=2 \n",
      "[CV]  n_estimators=500, min_samples_split=100, min_samples_leaf=2, max_features=auto, max_depth=2, total=   1.0s\n",
      "[CV] n_estimators=500, min_samples_split=100, min_samples_leaf=2, max_features=auto, max_depth=2 \n",
      "[CV]  n_estimators=500, min_samples_split=100, min_samples_leaf=2, max_features=auto, max_depth=2, total=   1.0s\n",
      "[CV] n_estimators=500, min_samples_split=100, min_samples_leaf=2, max_features=auto, max_depth=2 \n",
      "[CV]  n_estimators=500, min_samples_split=100, min_samples_leaf=2, max_features=auto, max_depth=2, total=   1.0s\n",
      "[CV] n_estimators=200, min_samples_split=5, min_samples_leaf=5, max_features=auto, max_depth=4 \n",
      "[CV]  n_estimators=200, min_samples_split=5, min_samples_leaf=5, max_features=auto, max_depth=4, total=   0.5s\n",
      "[CV] n_estimators=200, min_samples_split=5, min_samples_leaf=5, max_features=auto, max_depth=4 \n",
      "[CV]  n_estimators=200, min_samples_split=5, min_samples_leaf=5, max_features=auto, max_depth=4, total=   0.5s\n",
      "[CV] n_estimators=200, min_samples_split=5, min_samples_leaf=5, max_features=auto, max_depth=4 \n",
      "[CV]  n_estimators=200, min_samples_split=5, min_samples_leaf=5, max_features=auto, max_depth=4, total=   0.5s\n",
      "[CV] n_estimators=200, min_samples_split=5, min_samples_leaf=5, max_features=auto, max_depth=4 \n",
      "[CV]  n_estimators=200, min_samples_split=5, min_samples_leaf=5, max_features=auto, max_depth=4, total=   0.5s\n",
      "[CV] n_estimators=200, min_samples_split=5, min_samples_leaf=5, max_features=auto, max_depth=4 \n",
      "[CV]  n_estimators=200, min_samples_split=5, min_samples_leaf=5, max_features=auto, max_depth=4, total=   0.5s\n",
      "[CV] n_estimators=300, min_samples_split=5, min_samples_leaf=1, max_features=auto, max_depth=3 \n",
      "[CV]  n_estimators=300, min_samples_split=5, min_samples_leaf=1, max_features=auto, max_depth=3, total=   0.7s\n",
      "[CV] n_estimators=300, min_samples_split=5, min_samples_leaf=1, max_features=auto, max_depth=3 \n",
      "[CV]  n_estimators=300, min_samples_split=5, min_samples_leaf=1, max_features=auto, max_depth=3, total=   0.7s\n",
      "[CV] n_estimators=300, min_samples_split=5, min_samples_leaf=1, max_features=auto, max_depth=3 \n",
      "[CV]  n_estimators=300, min_samples_split=5, min_samples_leaf=1, max_features=auto, max_depth=3, total=   0.7s\n",
      "[CV] n_estimators=300, min_samples_split=5, min_samples_leaf=1, max_features=auto, max_depth=3 \n",
      "[CV]  n_estimators=300, min_samples_split=5, min_samples_leaf=1, max_features=auto, max_depth=3, total=   0.7s\n",
      "[CV] n_estimators=300, min_samples_split=5, min_samples_leaf=1, max_features=auto, max_depth=3 \n",
      "[CV]  n_estimators=300, min_samples_split=5, min_samples_leaf=1, max_features=auto, max_depth=3, total=   0.7s\n",
      "[CV] n_estimators=300, min_samples_split=15, min_samples_leaf=2, max_features=sqrt, max_depth=3 \n",
      "[CV]  n_estimators=300, min_samples_split=15, min_samples_leaf=2, max_features=sqrt, max_depth=3, total=   0.5s\n",
      "[CV] n_estimators=300, min_samples_split=15, min_samples_leaf=2, max_features=sqrt, max_depth=3 \n",
      "[CV]  n_estimators=300, min_samples_split=15, min_samples_leaf=2, max_features=sqrt, max_depth=3, total=   0.5s\n",
      "[CV] n_estimators=300, min_samples_split=15, min_samples_leaf=2, max_features=sqrt, max_depth=3 \n",
      "[CV]  n_estimators=300, min_samples_split=15, min_samples_leaf=2, max_features=sqrt, max_depth=3, total=   0.5s\n",
      "[CV] n_estimators=300, min_samples_split=15, min_samples_leaf=2, max_features=sqrt, max_depth=3 \n",
      "[CV]  n_estimators=300, min_samples_split=15, min_samples_leaf=2, max_features=sqrt, max_depth=3, total=   0.6s\n",
      "[CV] n_estimators=300, min_samples_split=15, min_samples_leaf=2, max_features=sqrt, max_depth=3 \n",
      "[CV]  n_estimators=300, min_samples_split=15, min_samples_leaf=2, max_features=sqrt, max_depth=3, total=   0.6s\n",
      "[CV] n_estimators=100, min_samples_split=10, min_samples_leaf=1, max_features=sqrt, max_depth=3 \n",
      "[CV]  n_estimators=100, min_samples_split=10, min_samples_leaf=1, max_features=sqrt, max_depth=3, total=   0.2s\n",
      "[CV] n_estimators=100, min_samples_split=10, min_samples_leaf=1, max_features=sqrt, max_depth=3 \n",
      "[CV]  n_estimators=100, min_samples_split=10, min_samples_leaf=1, max_features=sqrt, max_depth=3, total=   0.2s\n",
      "[CV] n_estimators=100, min_samples_split=10, min_samples_leaf=1, max_features=sqrt, max_depth=3 \n",
      "[CV]  n_estimators=100, min_samples_split=10, min_samples_leaf=1, max_features=sqrt, max_depth=3, total=   0.2s\n",
      "[CV] n_estimators=100, min_samples_split=10, min_samples_leaf=1, max_features=sqrt, max_depth=3 \n",
      "[CV]  n_estimators=100, min_samples_split=10, min_samples_leaf=1, max_features=sqrt, max_depth=3, total=   0.2s\n",
      "[CV] n_estimators=100, min_samples_split=10, min_samples_leaf=1, max_features=sqrt, max_depth=3 \n",
      "[CV]  n_estimators=100, min_samples_split=10, min_samples_leaf=1, max_features=sqrt, max_depth=3, total=   0.2s\n",
      "[CV] n_estimators=100, min_samples_split=10, min_samples_leaf=2, max_features=sqrt, max_depth=4 \n",
      "[CV]  n_estimators=100, min_samples_split=10, min_samples_leaf=2, max_features=sqrt, max_depth=4, total=   0.2s\n",
      "[CV] n_estimators=100, min_samples_split=10, min_samples_leaf=2, max_features=sqrt, max_depth=4 \n",
      "[CV]  n_estimators=100, min_samples_split=10, min_samples_leaf=2, max_features=sqrt, max_depth=4, total=   0.2s\n",
      "[CV] n_estimators=100, min_samples_split=10, min_samples_leaf=2, max_features=sqrt, max_depth=4 \n"
     ]
    },
    {
     "name": "stdout",
     "output_type": "stream",
     "text": [
      "[CV]  n_estimators=100, min_samples_split=10, min_samples_leaf=2, max_features=sqrt, max_depth=4, total=   0.2s\n",
      "[CV] n_estimators=100, min_samples_split=10, min_samples_leaf=2, max_features=sqrt, max_depth=4 \n",
      "[CV]  n_estimators=100, min_samples_split=10, min_samples_leaf=2, max_features=sqrt, max_depth=4, total=   0.2s\n",
      "[CV] n_estimators=100, min_samples_split=10, min_samples_leaf=2, max_features=sqrt, max_depth=4 \n",
      "[CV]  n_estimators=100, min_samples_split=10, min_samples_leaf=2, max_features=sqrt, max_depth=4, total=   0.2s\n",
      "[CV] n_estimators=200, min_samples_split=100, min_samples_leaf=5, max_features=sqrt, max_depth=1 \n",
      "[CV]  n_estimators=200, min_samples_split=100, min_samples_leaf=5, max_features=sqrt, max_depth=1, total=   0.4s\n",
      "[CV] n_estimators=200, min_samples_split=100, min_samples_leaf=5, max_features=sqrt, max_depth=1 \n",
      "[CV]  n_estimators=200, min_samples_split=100, min_samples_leaf=5, max_features=sqrt, max_depth=1, total=   0.3s\n",
      "[CV] n_estimators=200, min_samples_split=100, min_samples_leaf=5, max_features=sqrt, max_depth=1 \n",
      "[CV]  n_estimators=200, min_samples_split=100, min_samples_leaf=5, max_features=sqrt, max_depth=1, total=   0.3s\n",
      "[CV] n_estimators=200, min_samples_split=100, min_samples_leaf=5, max_features=sqrt, max_depth=1 \n",
      "[CV]  n_estimators=200, min_samples_split=100, min_samples_leaf=5, max_features=sqrt, max_depth=1, total=   0.4s\n",
      "[CV] n_estimators=200, min_samples_split=100, min_samples_leaf=5, max_features=sqrt, max_depth=1 \n",
      "[CV]  n_estimators=200, min_samples_split=100, min_samples_leaf=5, max_features=sqrt, max_depth=1, total=   0.4s\n",
      "[CV] n_estimators=100, min_samples_split=15, min_samples_leaf=10, max_features=auto, max_depth=1 \n",
      "[CV]  n_estimators=100, min_samples_split=15, min_samples_leaf=10, max_features=auto, max_depth=1, total=   0.2s\n",
      "[CV] n_estimators=100, min_samples_split=15, min_samples_leaf=10, max_features=auto, max_depth=1 \n",
      "[CV]  n_estimators=100, min_samples_split=15, min_samples_leaf=10, max_features=auto, max_depth=1, total=   0.2s\n",
      "[CV] n_estimators=100, min_samples_split=15, min_samples_leaf=10, max_features=auto, max_depth=1 \n",
      "[CV]  n_estimators=100, min_samples_split=15, min_samples_leaf=10, max_features=auto, max_depth=1, total=   0.2s\n",
      "[CV] n_estimators=100, min_samples_split=15, min_samples_leaf=10, max_features=auto, max_depth=1 \n",
      "[CV]  n_estimators=100, min_samples_split=15, min_samples_leaf=10, max_features=auto, max_depth=1, total=   0.2s\n",
      "[CV] n_estimators=100, min_samples_split=15, min_samples_leaf=10, max_features=auto, max_depth=1 \n",
      "[CV]  n_estimators=100, min_samples_split=15, min_samples_leaf=10, max_features=auto, max_depth=1, total=   0.2s\n",
      "[CV] n_estimators=200, min_samples_split=100, min_samples_leaf=10, max_features=auto, max_depth=1 \n",
      "[CV]  n_estimators=200, min_samples_split=100, min_samples_leaf=10, max_features=auto, max_depth=1, total=   0.4s\n",
      "[CV] n_estimators=200, min_samples_split=100, min_samples_leaf=10, max_features=auto, max_depth=1 \n",
      "[CV]  n_estimators=200, min_samples_split=100, min_samples_leaf=10, max_features=auto, max_depth=1, total=   0.4s\n",
      "[CV] n_estimators=200, min_samples_split=100, min_samples_leaf=10, max_features=auto, max_depth=1 \n",
      "[CV]  n_estimators=200, min_samples_split=100, min_samples_leaf=10, max_features=auto, max_depth=1, total=   0.4s\n",
      "[CV] n_estimators=200, min_samples_split=100, min_samples_leaf=10, max_features=auto, max_depth=1 \n",
      "[CV]  n_estimators=200, min_samples_split=100, min_samples_leaf=10, max_features=auto, max_depth=1, total=   0.4s\n",
      "[CV] n_estimators=200, min_samples_split=100, min_samples_leaf=10, max_features=auto, max_depth=1 \n",
      "[CV]  n_estimators=200, min_samples_split=100, min_samples_leaf=10, max_features=auto, max_depth=1, total=   0.4s\n",
      "[CV] n_estimators=100, min_samples_split=15, min_samples_leaf=2, max_features=auto, max_depth=3 \n",
      "[CV]  n_estimators=100, min_samples_split=15, min_samples_leaf=2, max_features=auto, max_depth=3, total=   0.2s\n",
      "[CV] n_estimators=100, min_samples_split=15, min_samples_leaf=2, max_features=auto, max_depth=3 \n",
      "[CV]  n_estimators=100, min_samples_split=15, min_samples_leaf=2, max_features=auto, max_depth=3, total=   0.2s\n",
      "[CV] n_estimators=100, min_samples_split=15, min_samples_leaf=2, max_features=auto, max_depth=3 \n",
      "[CV]  n_estimators=100, min_samples_split=15, min_samples_leaf=2, max_features=auto, max_depth=3, total=   0.2s\n",
      "[CV] n_estimators=100, min_samples_split=15, min_samples_leaf=2, max_features=auto, max_depth=3 \n",
      "[CV]  n_estimators=100, min_samples_split=15, min_samples_leaf=2, max_features=auto, max_depth=3, total=   0.2s\n",
      "[CV] n_estimators=100, min_samples_split=15, min_samples_leaf=2, max_features=auto, max_depth=3 \n",
      "[CV]  n_estimators=100, min_samples_split=15, min_samples_leaf=2, max_features=auto, max_depth=3, total=   0.2s\n",
      "[CV] n_estimators=500, min_samples_split=2, min_samples_leaf=10, max_features=sqrt, max_depth=5 \n",
      "[CV]  n_estimators=500, min_samples_split=2, min_samples_leaf=10, max_features=sqrt, max_depth=5, total=   0.9s\n",
      "[CV] n_estimators=500, min_samples_split=2, min_samples_leaf=10, max_features=sqrt, max_depth=5 \n",
      "[CV]  n_estimators=500, min_samples_split=2, min_samples_leaf=10, max_features=sqrt, max_depth=5, total=   1.0s\n",
      "[CV] n_estimators=500, min_samples_split=2, min_samples_leaf=10, max_features=sqrt, max_depth=5 \n",
      "[CV]  n_estimators=500, min_samples_split=2, min_samples_leaf=10, max_features=sqrt, max_depth=5, total=   0.9s\n",
      "[CV] n_estimators=500, min_samples_split=2, min_samples_leaf=10, max_features=sqrt, max_depth=5 \n",
      "[CV]  n_estimators=500, min_samples_split=2, min_samples_leaf=10, max_features=sqrt, max_depth=5, total=   0.9s\n",
      "[CV] n_estimators=500, min_samples_split=2, min_samples_leaf=10, max_features=sqrt, max_depth=5 \n",
      "[CV]  n_estimators=500, min_samples_split=2, min_samples_leaf=10, max_features=sqrt, max_depth=5, total=   1.0s\n",
      "[CV] n_estimators=300, min_samples_split=5, min_samples_leaf=10, max_features=sqrt, max_depth=5 \n",
      "[CV]  n_estimators=300, min_samples_split=5, min_samples_leaf=10, max_features=sqrt, max_depth=5, total=   0.6s\n",
      "[CV] n_estimators=300, min_samples_split=5, min_samples_leaf=10, max_features=sqrt, max_depth=5 \n",
      "[CV]  n_estimators=300, min_samples_split=5, min_samples_leaf=10, max_features=sqrt, max_depth=5, total=   0.6s\n",
      "[CV] n_estimators=300, min_samples_split=5, min_samples_leaf=10, max_features=sqrt, max_depth=5 \n",
      "[CV]  n_estimators=300, min_samples_split=5, min_samples_leaf=10, max_features=sqrt, max_depth=5, total=   0.6s\n",
      "[CV] n_estimators=300, min_samples_split=5, min_samples_leaf=10, max_features=sqrt, max_depth=5 \n",
      "[CV]  n_estimators=300, min_samples_split=5, min_samples_leaf=10, max_features=sqrt, max_depth=5, total=   0.6s\n",
      "[CV] n_estimators=300, min_samples_split=5, min_samples_leaf=10, max_features=sqrt, max_depth=5 \n",
      "[CV]  n_estimators=300, min_samples_split=5, min_samples_leaf=10, max_features=sqrt, max_depth=5, total=   0.6s\n",
      "[CV] n_estimators=500, min_samples_split=15, min_samples_leaf=2, max_features=sqrt, max_depth=2 \n",
      "[CV]  n_estimators=500, min_samples_split=15, min_samples_leaf=2, max_features=sqrt, max_depth=2, total=   0.9s\n",
      "[CV] n_estimators=500, min_samples_split=15, min_samples_leaf=2, max_features=sqrt, max_depth=2 \n",
      "[CV]  n_estimators=500, min_samples_split=15, min_samples_leaf=2, max_features=sqrt, max_depth=2, total=   0.9s\n",
      "[CV] n_estimators=500, min_samples_split=15, min_samples_leaf=2, max_features=sqrt, max_depth=2 \n",
      "[CV]  n_estimators=500, min_samples_split=15, min_samples_leaf=2, max_features=sqrt, max_depth=2, total=   0.9s\n",
      "[CV] n_estimators=500, min_samples_split=15, min_samples_leaf=2, max_features=sqrt, max_depth=2 \n",
      "[CV]  n_estimators=500, min_samples_split=15, min_samples_leaf=2, max_features=sqrt, max_depth=2, total=   0.9s\n",
      "[CV] n_estimators=500, min_samples_split=15, min_samples_leaf=2, max_features=sqrt, max_depth=2 \n",
      "[CV]  n_estimators=500, min_samples_split=15, min_samples_leaf=2, max_features=sqrt, max_depth=2, total=   0.9s\n",
      "[CV] n_estimators=200, min_samples_split=2, min_samples_leaf=5, max_features=auto, max_depth=4 \n",
      "[CV]  n_estimators=200, min_samples_split=2, min_samples_leaf=5, max_features=auto, max_depth=4, total=   0.5s\n",
      "[CV] n_estimators=200, min_samples_split=2, min_samples_leaf=5, max_features=auto, max_depth=4 \n",
      "[CV]  n_estimators=200, min_samples_split=2, min_samples_leaf=5, max_features=auto, max_depth=4, total=   0.5s\n",
      "[CV] n_estimators=200, min_samples_split=2, min_samples_leaf=5, max_features=auto, max_depth=4 \n"
     ]
    },
    {
     "name": "stdout",
     "output_type": "stream",
     "text": [
      "[CV]  n_estimators=200, min_samples_split=2, min_samples_leaf=5, max_features=auto, max_depth=4, total=   0.5s\n",
      "[CV] n_estimators=200, min_samples_split=2, min_samples_leaf=5, max_features=auto, max_depth=4 \n",
      "[CV]  n_estimators=200, min_samples_split=2, min_samples_leaf=5, max_features=auto, max_depth=4, total=   0.5s\n",
      "[CV] n_estimators=200, min_samples_split=2, min_samples_leaf=5, max_features=auto, max_depth=4 \n",
      "[CV]  n_estimators=200, min_samples_split=2, min_samples_leaf=5, max_features=auto, max_depth=4, total=   0.5s\n",
      "[CV] n_estimators=100, min_samples_split=100, min_samples_leaf=1, max_features=sqrt, max_depth=1 \n",
      "[CV]  n_estimators=100, min_samples_split=100, min_samples_leaf=1, max_features=sqrt, max_depth=1, total=   0.2s\n",
      "[CV] n_estimators=100, min_samples_split=100, min_samples_leaf=1, max_features=sqrt, max_depth=1 \n",
      "[CV]  n_estimators=100, min_samples_split=100, min_samples_leaf=1, max_features=sqrt, max_depth=1, total=   0.2s\n",
      "[CV] n_estimators=100, min_samples_split=100, min_samples_leaf=1, max_features=sqrt, max_depth=1 \n",
      "[CV]  n_estimators=100, min_samples_split=100, min_samples_leaf=1, max_features=sqrt, max_depth=1, total=   0.2s\n",
      "[CV] n_estimators=100, min_samples_split=100, min_samples_leaf=1, max_features=sqrt, max_depth=1 \n",
      "[CV]  n_estimators=100, min_samples_split=100, min_samples_leaf=1, max_features=sqrt, max_depth=1, total=   0.2s\n",
      "[CV] n_estimators=100, min_samples_split=100, min_samples_leaf=1, max_features=sqrt, max_depth=1 \n",
      "[CV]  n_estimators=100, min_samples_split=100, min_samples_leaf=1, max_features=sqrt, max_depth=1, total=   0.2s\n",
      "[CV] n_estimators=200, min_samples_split=2, min_samples_leaf=1, max_features=auto, max_depth=5 \n",
      "[CV]  n_estimators=200, min_samples_split=2, min_samples_leaf=1, max_features=auto, max_depth=5, total=   0.5s\n",
      "[CV] n_estimators=200, min_samples_split=2, min_samples_leaf=1, max_features=auto, max_depth=5 \n",
      "[CV]  n_estimators=200, min_samples_split=2, min_samples_leaf=1, max_features=auto, max_depth=5, total=   0.5s\n",
      "[CV] n_estimators=200, min_samples_split=2, min_samples_leaf=1, max_features=auto, max_depth=5 \n",
      "[CV]  n_estimators=200, min_samples_split=2, min_samples_leaf=1, max_features=auto, max_depth=5, total=   0.5s\n",
      "[CV] n_estimators=200, min_samples_split=2, min_samples_leaf=1, max_features=auto, max_depth=5 \n",
      "[CV]  n_estimators=200, min_samples_split=2, min_samples_leaf=1, max_features=auto, max_depth=5, total=   0.5s\n",
      "[CV] n_estimators=200, min_samples_split=2, min_samples_leaf=1, max_features=auto, max_depth=5 \n",
      "[CV]  n_estimators=200, min_samples_split=2, min_samples_leaf=1, max_features=auto, max_depth=5, total=   0.5s\n",
      "[CV] n_estimators=500, min_samples_split=15, min_samples_leaf=10, max_features=auto, max_depth=5 \n",
      "[CV]  n_estimators=500, min_samples_split=15, min_samples_leaf=10, max_features=auto, max_depth=5, total=   1.2s\n",
      "[CV] n_estimators=500, min_samples_split=15, min_samples_leaf=10, max_features=auto, max_depth=5 \n",
      "[CV]  n_estimators=500, min_samples_split=15, min_samples_leaf=10, max_features=auto, max_depth=5, total=   1.2s\n",
      "[CV] n_estimators=500, min_samples_split=15, min_samples_leaf=10, max_features=auto, max_depth=5 \n",
      "[CV]  n_estimators=500, min_samples_split=15, min_samples_leaf=10, max_features=auto, max_depth=5, total=   1.2s\n",
      "[CV] n_estimators=500, min_samples_split=15, min_samples_leaf=10, max_features=auto, max_depth=5 \n",
      "[CV]  n_estimators=500, min_samples_split=15, min_samples_leaf=10, max_features=auto, max_depth=5, total=   1.2s\n",
      "[CV] n_estimators=500, min_samples_split=15, min_samples_leaf=10, max_features=auto, max_depth=5 \n",
      "[CV]  n_estimators=500, min_samples_split=15, min_samples_leaf=10, max_features=auto, max_depth=5, total=   1.2s\n",
      "[CV] n_estimators=200, min_samples_split=2, min_samples_leaf=5, max_features=sqrt, max_depth=2 \n",
      "[CV]  n_estimators=200, min_samples_split=2, min_samples_leaf=5, max_features=sqrt, max_depth=2, total=   0.4s\n",
      "[CV] n_estimators=200, min_samples_split=2, min_samples_leaf=5, max_features=sqrt, max_depth=2 \n",
      "[CV]  n_estimators=200, min_samples_split=2, min_samples_leaf=5, max_features=sqrt, max_depth=2, total=   0.4s\n",
      "[CV] n_estimators=200, min_samples_split=2, min_samples_leaf=5, max_features=sqrt, max_depth=2 \n",
      "[CV]  n_estimators=200, min_samples_split=2, min_samples_leaf=5, max_features=sqrt, max_depth=2, total=   0.4s\n",
      "[CV] n_estimators=200, min_samples_split=2, min_samples_leaf=5, max_features=sqrt, max_depth=2 \n",
      "[CV]  n_estimators=200, min_samples_split=2, min_samples_leaf=5, max_features=sqrt, max_depth=2, total=   0.4s\n",
      "[CV] n_estimators=200, min_samples_split=2, min_samples_leaf=5, max_features=sqrt, max_depth=2 \n",
      "[CV]  n_estimators=200, min_samples_split=2, min_samples_leaf=5, max_features=sqrt, max_depth=2, total=   0.4s\n",
      "[CV] n_estimators=200, min_samples_split=15, min_samples_leaf=10, max_features=auto, max_depth=4 \n",
      "[CV]  n_estimators=200, min_samples_split=15, min_samples_leaf=10, max_features=auto, max_depth=4, total=   0.5s\n",
      "[CV] n_estimators=200, min_samples_split=15, min_samples_leaf=10, max_features=auto, max_depth=4 \n",
      "[CV]  n_estimators=200, min_samples_split=15, min_samples_leaf=10, max_features=auto, max_depth=4, total=   0.5s\n",
      "[CV] n_estimators=200, min_samples_split=15, min_samples_leaf=10, max_features=auto, max_depth=4 \n",
      "[CV]  n_estimators=200, min_samples_split=15, min_samples_leaf=10, max_features=auto, max_depth=4, total=   0.5s\n",
      "[CV] n_estimators=200, min_samples_split=15, min_samples_leaf=10, max_features=auto, max_depth=4 \n",
      "[CV]  n_estimators=200, min_samples_split=15, min_samples_leaf=10, max_features=auto, max_depth=4, total=   0.5s\n",
      "[CV] n_estimators=200, min_samples_split=15, min_samples_leaf=10, max_features=auto, max_depth=4 \n",
      "[CV]  n_estimators=200, min_samples_split=15, min_samples_leaf=10, max_features=auto, max_depth=4, total=   0.5s\n",
      "[CV] n_estimators=100, min_samples_split=10, min_samples_leaf=10, max_features=sqrt, max_depth=3 \n",
      "[CV]  n_estimators=100, min_samples_split=10, min_samples_leaf=10, max_features=sqrt, max_depth=3, total=   0.2s\n",
      "[CV] n_estimators=100, min_samples_split=10, min_samples_leaf=10, max_features=sqrt, max_depth=3 \n",
      "[CV]  n_estimators=100, min_samples_split=10, min_samples_leaf=10, max_features=sqrt, max_depth=3, total=   0.2s\n",
      "[CV] n_estimators=100, min_samples_split=10, min_samples_leaf=10, max_features=sqrt, max_depth=3 \n",
      "[CV]  n_estimators=100, min_samples_split=10, min_samples_leaf=10, max_features=sqrt, max_depth=3, total=   0.2s\n",
      "[CV] n_estimators=100, min_samples_split=10, min_samples_leaf=10, max_features=sqrt, max_depth=3 \n",
      "[CV]  n_estimators=100, min_samples_split=10, min_samples_leaf=10, max_features=sqrt, max_depth=3, total=   0.2s\n",
      "[CV] n_estimators=100, min_samples_split=10, min_samples_leaf=10, max_features=sqrt, max_depth=3 \n",
      "[CV]  n_estimators=100, min_samples_split=10, min_samples_leaf=10, max_features=sqrt, max_depth=3, total=   0.2s\n",
      "[CV] n_estimators=100, min_samples_split=10, min_samples_leaf=5, max_features=sqrt, max_depth=3 \n",
      "[CV]  n_estimators=100, min_samples_split=10, min_samples_leaf=5, max_features=sqrt, max_depth=3, total=   0.2s\n",
      "[CV] n_estimators=100, min_samples_split=10, min_samples_leaf=5, max_features=sqrt, max_depth=3 \n",
      "[CV]  n_estimators=100, min_samples_split=10, min_samples_leaf=5, max_features=sqrt, max_depth=3, total=   0.2s\n",
      "[CV] n_estimators=100, min_samples_split=10, min_samples_leaf=5, max_features=sqrt, max_depth=3 \n",
      "[CV]  n_estimators=100, min_samples_split=10, min_samples_leaf=5, max_features=sqrt, max_depth=3, total=   0.2s\n",
      "[CV] n_estimators=100, min_samples_split=10, min_samples_leaf=5, max_features=sqrt, max_depth=3 \n",
      "[CV]  n_estimators=100, min_samples_split=10, min_samples_leaf=5, max_features=sqrt, max_depth=3, total=   0.2s\n",
      "[CV] n_estimators=100, min_samples_split=10, min_samples_leaf=5, max_features=sqrt, max_depth=3 \n",
      "[CV]  n_estimators=100, min_samples_split=10, min_samples_leaf=5, max_features=sqrt, max_depth=3, total=   0.2s\n",
      "[CV] n_estimators=200, min_samples_split=5, min_samples_leaf=10, max_features=auto, max_depth=5 \n",
      "[CV]  n_estimators=200, min_samples_split=5, min_samples_leaf=10, max_features=auto, max_depth=5, total=   0.5s\n",
      "[CV] n_estimators=200, min_samples_split=5, min_samples_leaf=10, max_features=auto, max_depth=5 \n",
      "[CV]  n_estimators=200, min_samples_split=5, min_samples_leaf=10, max_features=auto, max_depth=5, total=   0.5s\n",
      "[CV] n_estimators=200, min_samples_split=5, min_samples_leaf=10, max_features=auto, max_depth=5 \n"
     ]
    },
    {
     "name": "stdout",
     "output_type": "stream",
     "text": [
      "[CV]  n_estimators=200, min_samples_split=5, min_samples_leaf=10, max_features=auto, max_depth=5, total=   0.5s\n",
      "[CV] n_estimators=200, min_samples_split=5, min_samples_leaf=10, max_features=auto, max_depth=5 \n",
      "[CV]  n_estimators=200, min_samples_split=5, min_samples_leaf=10, max_features=auto, max_depth=5, total=   0.5s\n",
      "[CV] n_estimators=200, min_samples_split=5, min_samples_leaf=10, max_features=auto, max_depth=5 \n",
      "[CV]  n_estimators=200, min_samples_split=5, min_samples_leaf=10, max_features=auto, max_depth=5, total=   0.5s\n",
      "[CV] n_estimators=300, min_samples_split=15, min_samples_leaf=2, max_features=sqrt, max_depth=5 \n",
      "[CV]  n_estimators=300, min_samples_split=15, min_samples_leaf=2, max_features=sqrt, max_depth=5, total=   0.6s\n",
      "[CV] n_estimators=300, min_samples_split=15, min_samples_leaf=2, max_features=sqrt, max_depth=5 \n",
      "[CV]  n_estimators=300, min_samples_split=15, min_samples_leaf=2, max_features=sqrt, max_depth=5, total=   0.6s\n",
      "[CV] n_estimators=300, min_samples_split=15, min_samples_leaf=2, max_features=sqrt, max_depth=5 \n",
      "[CV]  n_estimators=300, min_samples_split=15, min_samples_leaf=2, max_features=sqrt, max_depth=5, total=   0.6s\n",
      "[CV] n_estimators=300, min_samples_split=15, min_samples_leaf=2, max_features=sqrt, max_depth=5 \n",
      "[CV]  n_estimators=300, min_samples_split=15, min_samples_leaf=2, max_features=sqrt, max_depth=5, total=   0.6s\n",
      "[CV] n_estimators=300, min_samples_split=15, min_samples_leaf=2, max_features=sqrt, max_depth=5 \n",
      "[CV]  n_estimators=300, min_samples_split=15, min_samples_leaf=2, max_features=sqrt, max_depth=5, total=   0.6s\n",
      "[CV] n_estimators=300, min_samples_split=15, min_samples_leaf=5, max_features=auto, max_depth=1 \n",
      "[CV]  n_estimators=300, min_samples_split=15, min_samples_leaf=5, max_features=auto, max_depth=1, total=   0.6s\n",
      "[CV] n_estimators=300, min_samples_split=15, min_samples_leaf=5, max_features=auto, max_depth=1 \n",
      "[CV]  n_estimators=300, min_samples_split=15, min_samples_leaf=5, max_features=auto, max_depth=1, total=   0.5s\n",
      "[CV] n_estimators=300, min_samples_split=15, min_samples_leaf=5, max_features=auto, max_depth=1 \n",
      "[CV]  n_estimators=300, min_samples_split=15, min_samples_leaf=5, max_features=auto, max_depth=1, total=   0.5s\n",
      "[CV] n_estimators=300, min_samples_split=15, min_samples_leaf=5, max_features=auto, max_depth=1 \n",
      "[CV]  n_estimators=300, min_samples_split=15, min_samples_leaf=5, max_features=auto, max_depth=1, total=   0.6s\n",
      "[CV] n_estimators=300, min_samples_split=15, min_samples_leaf=5, max_features=auto, max_depth=1 \n",
      "[CV]  n_estimators=300, min_samples_split=15, min_samples_leaf=5, max_features=auto, max_depth=1, total=   0.6s\n",
      "[CV] n_estimators=300, min_samples_split=10, min_samples_leaf=2, max_features=sqrt, max_depth=5 \n",
      "[CV]  n_estimators=300, min_samples_split=10, min_samples_leaf=2, max_features=sqrt, max_depth=5, total=   0.6s\n",
      "[CV] n_estimators=300, min_samples_split=10, min_samples_leaf=2, max_features=sqrt, max_depth=5 \n",
      "[CV]  n_estimators=300, min_samples_split=10, min_samples_leaf=2, max_features=sqrt, max_depth=5, total=   0.6s\n",
      "[CV] n_estimators=300, min_samples_split=10, min_samples_leaf=2, max_features=sqrt, max_depth=5 \n",
      "[CV]  n_estimators=300, min_samples_split=10, min_samples_leaf=2, max_features=sqrt, max_depth=5, total=   0.6s\n",
      "[CV] n_estimators=300, min_samples_split=10, min_samples_leaf=2, max_features=sqrt, max_depth=5 \n",
      "[CV]  n_estimators=300, min_samples_split=10, min_samples_leaf=2, max_features=sqrt, max_depth=5, total=   0.6s\n",
      "[CV] n_estimators=300, min_samples_split=10, min_samples_leaf=2, max_features=sqrt, max_depth=5 \n",
      "[CV]  n_estimators=300, min_samples_split=10, min_samples_leaf=2, max_features=sqrt, max_depth=5, total=   0.6s\n"
     ]
    },
    {
     "name": "stderr",
     "output_type": "stream",
     "text": [
      "[Parallel(n_jobs=1)]: Done 500 out of 500 | elapsed:  4.8min finished\n",
      "/home/stellapps/anaconda3/lib/python3.7/site-packages/sklearn/model_selection/_search.py:814: DeprecationWarning: The default of the `iid` parameter will change from True to False in version 0.22 and will be removed in 0.24. This will change numeric results when test-set sizes are unequal.\n",
      "  DeprecationWarning)\n"
     ]
    },
    {
     "data": {
      "text/plain": [
       "RandomizedSearchCV(cv=5, error_score='raise-deprecating',\n",
       "                   estimator=RandomForestRegressor(bootstrap=True,\n",
       "                                                   criterion='mse',\n",
       "                                                   max_depth=None,\n",
       "                                                   max_features='auto',\n",
       "                                                   max_leaf_nodes=None,\n",
       "                                                   min_impurity_decrease=0.0,\n",
       "                                                   min_impurity_split=None,\n",
       "                                                   min_samples_leaf=1,\n",
       "                                                   min_samples_split=2,\n",
       "                                                   min_weight_fraction_leaf=0.0,\n",
       "                                                   n_estimators=10, n_jobs=None,\n",
       "                                                   oob_score=False,\n",
       "                                                   random_state=N...ose=0,\n",
       "                                                   warm_start=False),\n",
       "                   iid='warn', n_iter=100, n_jobs=1,\n",
       "                   param_distributions={'max_depth': [1, 2, 4, 3, 5],\n",
       "                                        'max_features': ['auto', 'sqrt'],\n",
       "                                        'min_samples_leaf': [1, 2, 5, 10],\n",
       "                                        'min_samples_split': [2, 5, 10, 15,\n",
       "                                                              100],\n",
       "                                        'n_estimators': [100, 200, 300, 500]},\n",
       "                   pre_dispatch='2*n_jobs', random_state=42, refit=True,\n",
       "                   return_train_score=False, scoring='neg_mean_squared_error',\n",
       "                   verbose=2)"
      ]
     },
     "execution_count": 66,
     "metadata": {},
     "output_type": "execute_result"
    }
   ],
   "source": [
    "rf_random.fit(X_train,y_train)"
   ]
  },
  {
   "cell_type": "code",
   "execution_count": 73,
   "metadata": {},
   "outputs": [
    {
     "data": {
      "text/plain": [
       "-1368.4227988534547"
      ]
     },
     "execution_count": 73,
     "metadata": {},
     "output_type": "execute_result"
    }
   ],
   "source": [
    "rf_random.score(X_train,y_train)"
   ]
  },
  {
   "cell_type": "code",
   "execution_count": 74,
   "metadata": {},
   "outputs": [
    {
     "data": {
      "text/plain": [
       "-2401.3229957061035"
      ]
     },
     "execution_count": 74,
     "metadata": {},
     "output_type": "execute_result"
    }
   ],
   "source": [
    "rf_random.score(X_test,y_test)"
   ]
  },
  {
   "cell_type": "code",
   "execution_count": 67,
   "metadata": {},
   "outputs": [],
   "source": [
    "prediction_after_tuning=rf_random.predict(X_test)"
   ]
  },
  {
   "cell_type": "code",
   "execution_count": 68,
   "metadata": {},
   "outputs": [
    {
     "data": {
      "text/plain": [
       "109.92132917149091"
      ]
     },
     "execution_count": 68,
     "metadata": {},
     "output_type": "execute_result"
    }
   ],
   "source": [
    "prediction_after_tuning.mean()"
   ]
  },
  {
   "cell_type": "code",
   "execution_count": 69,
   "metadata": {},
   "outputs": [
    {
     "data": {
      "text/plain": [
       "0.6321589449288907"
      ]
     },
     "execution_count": 69,
     "metadata": {},
     "output_type": "execute_result"
    }
   ],
   "source": [
    "r2_score(y_test,prediction_after_tuning)"
   ]
  },
  {
   "cell_type": "code",
   "execution_count": 70,
   "metadata": {},
   "outputs": [
    {
     "data": {
      "text/plain": [
       "<matplotlib.axes._subplots.AxesSubplot at 0x7fb1010ef810>"
      ]
     },
     "execution_count": 70,
     "metadata": {},
     "output_type": "execute_result"
    },
    {
     "data": {
      "image/png": "[encoded data removed]",
      "text/plain": [
       "<Figure size 432x288 with 1 Axes>"
      ]
     },
     "metadata": {
      "needs_background": "light"
     },
     "output_type": "display_data"
    }
   ],
   "source": [
    "sns.distplot(y_test-prediction_after_tuning)"
   ]
  },
  {
   "cell_type": "code",
   "execution_count": 72,
   "metadata": {},
   "outputs": [
    {
     "data": {
      "text/plain": [
       "<matplotlib.collections.PathCollection at 0x7fb1019aa890>"
      ]
     },
     "execution_count": 72,
     "metadata": {},
     "output_type": "execute_result"
    },
    {
     "data": {
      "image/png": "[encoded data removed]",
      "text/plain": [
       "<Figure size 432x288 with 1 Axes>"
      ]
     },
     "metadata": {
      "needs_background": "light"
     },
     "output_type": "display_data"
    }
   ],
   "source": [
    "plt.scatter(y_test,prediction_after_tuning)"
   ]
  },
  {
   "cell_type": "code",
   "execution_count": 76,
   "metadata": {},
   "outputs": [
    {
     "name": "stdout",
     "output_type": "stream",
     "text": [
      "MAE: 35.02342036142612\n",
      "MSE: 2401.3229957061035\n",
      "RMSE: 49.003295763714746\n"
     ]
    }
   ],
   "source": [
    "print('MAE:', metrics.mean_absolute_error(y_test, prediction_after_tuning))\n",
    "print('MSE:', metrics.mean_squared_error(y_test, prediction_after_tuning))\n",
    "print('RMSE:', np.sqrt(metrics.mean_squared_error(y_test, prediction_after_tuning)))\n"
   ]
  },
  {
   "cell_type": "code",
   "execution_count": null,
   "metadata": {},
   "outputs": [],
   "source": []
  }
 ],
 "metadata": {
  "hide_input": false,
  "kernelspec": {
   "display_name": "Python 3",
   "language": "python",
   "name": "python3"
  },
  "language_info": {
   "codemirror_mode": {
    "name": "ipython",
    "version": 3
   },
   "file_extension": ".py",
   "mimetype": "text/x-python",
   "name": "python",
   "nbconvert_exporter": "python",
   "pygments_lexer": "ipython3",
   "version": "3.7.4"
  }
 },
 "nbformat": 4,
 "nbformat_minor": 2
}
